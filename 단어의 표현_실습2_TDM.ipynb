{
 "cells": [
  {
   "cell_type": "code",
   "execution_count": 1,
   "metadata": {
    "executionInfo": {
     "elapsed": 10,
     "status": "ok",
     "timestamp": 1697177580971,
     "user": {
      "displayName": "최준호",
      "userId": "00706280605701392828"
     },
     "user_tz": -540
    },
    "id": "SepVtwqJjQNp"
   },
   "outputs": [],
   "source": [
    "docs = ['동물원 코끼리',\n",
    "        '동물원 원숭이 바나나',\n",
    "        '엄마 코끼리 아기 코끼리',\n",
    "        '원숭이 바나나 코끼리 바나나']"
   ]
  },
  {
   "cell_type": "code",
   "execution_count": 2,
   "metadata": {
    "colab": {
     "base_uri": "https://localhost:8080/"
    },
    "executionInfo": {
     "elapsed": 9,
     "status": "ok",
     "timestamp": 1697177580971,
     "user": {
      "displayName": "최준호",
      "userId": "00706280605701392828"
     },
     "user_tz": -540
    },
    "id": "jiyJe4KPkYeQ",
    "outputId": "7594ca2b-61d4-4934-9d03-76c666a964a9"
   },
   "outputs": [
    {
     "data": {
      "text/plain": [
       "[['동물원', '코끼리'],\n",
       " ['동물원', '원숭이', '바나나'],\n",
       " ['엄마', '코끼리', '아기', '코끼리'],\n",
       " ['원숭이', '바나나', '코끼리', '바나나']]"
      ]
     },
     "execution_count": 2,
     "metadata": {},
     "output_type": "execute_result"
    }
   ],
   "source": [
    "doc_ls = []\n",
    "for doc in docs:\n",
    "  doc_ls.append(doc.split(' '))\n",
    "doc_ls\n",
    "\n",
    "# doc_ls = [doc.split() for doc in doc_ls]\n",
    "# doc_ls"
   ]
  },
  {
   "cell_type": "code",
   "execution_count": 3,
   "metadata": {
    "colab": {
     "base_uri": "https://localhost:8080/"
    },
    "executionInfo": {
     "elapsed": 525,
     "status": "ok",
     "timestamp": 1697177581491,
     "user": {
      "displayName": "최준호",
      "userId": "00706280605701392828"
     },
     "user_tz": -540
    },
    "id": "3eAo3xlEk0Xq",
    "outputId": "c617b664-e45a-43a3-c14d-2ca87d84f074"
   },
   "outputs": [
    {
     "data": {
      "text/plain": [
       "['동물원', '코끼리', '원숭이', '바나나', '엄마', '아기']"
      ]
     },
     "execution_count": 3,
     "metadata": {},
     "output_type": "execute_result"
    }
   ],
   "source": [
    "word = []\n",
    "for i in doc_ls:\n",
    "  for j in i:\n",
    "    if j not in word:\n",
    "      word.append(j)\n",
    "word"
   ]
  },
  {
   "cell_type": "code",
   "execution_count": 4,
   "metadata": {
    "colab": {
     "base_uri": "https://localhost:8080/",
     "height": 175
    },
    "executionInfo": {
     "elapsed": 6,
     "status": "ok",
     "timestamp": 1697177581491,
     "user": {
      "displayName": "최준호",
      "userId": "00706280605701392828"
     },
     "user_tz": -540
    },
    "id": "gAKKVGiTmg3k",
    "outputId": "b978d416-984a-49f9-d0dc-53ab7cec470c"
   },
   "outputs": [
    {
     "data": {
      "text/html": [
       "<div>\n",
       "<style scoped>\n",
       "    .dataframe tbody tr th:only-of-type {\n",
       "        vertical-align: middle;\n",
       "    }\n",
       "\n",
       "    .dataframe tbody tr th {\n",
       "        vertical-align: top;\n",
       "    }\n",
       "\n",
       "    .dataframe thead th {\n",
       "        text-align: right;\n",
       "    }\n",
       "</style>\n",
       "<table border=\"1\" class=\"dataframe\">\n",
       "  <thead>\n",
       "    <tr style=\"text-align: right;\">\n",
       "      <th></th>\n",
       "      <th>동물원</th>\n",
       "      <th>코끼리</th>\n",
       "      <th>원숭이</th>\n",
       "      <th>바나나</th>\n",
       "      <th>엄마</th>\n",
       "      <th>아기</th>\n",
       "    </tr>\n",
       "  </thead>\n",
       "  <tbody>\n",
       "    <tr>\n",
       "      <th>문서1</th>\n",
       "      <td>1</td>\n",
       "      <td>1</td>\n",
       "      <td>0</td>\n",
       "      <td>0</td>\n",
       "      <td>0</td>\n",
       "      <td>0</td>\n",
       "    </tr>\n",
       "    <tr>\n",
       "      <th>문서2</th>\n",
       "      <td>1</td>\n",
       "      <td>0</td>\n",
       "      <td>1</td>\n",
       "      <td>1</td>\n",
       "      <td>0</td>\n",
       "      <td>0</td>\n",
       "    </tr>\n",
       "    <tr>\n",
       "      <th>문서3</th>\n",
       "      <td>0</td>\n",
       "      <td>2</td>\n",
       "      <td>0</td>\n",
       "      <td>0</td>\n",
       "      <td>1</td>\n",
       "      <td>1</td>\n",
       "    </tr>\n",
       "    <tr>\n",
       "      <th>문서4</th>\n",
       "      <td>0</td>\n",
       "      <td>1</td>\n",
       "      <td>1</td>\n",
       "      <td>2</td>\n",
       "      <td>0</td>\n",
       "      <td>0</td>\n",
       "    </tr>\n",
       "  </tbody>\n",
       "</table>\n",
       "</div>"
      ],
      "text/plain": [
       "     동물원  코끼리  원숭이  바나나  엄마  아기\n",
       "문서1    1    1    0    0   0   0\n",
       "문서2    1    0    1    1   0   0\n",
       "문서3    0    2    0    0   1   1\n",
       "문서4    0    1    1    2   0   0"
      ]
     },
     "execution_count": 4,
     "metadata": {},
     "output_type": "execute_result"
    }
   ],
   "source": [
    "import pandas as pd\n",
    "word_count = pd.DataFrame(columns = word)\n",
    "for i in range(1, len(docs) + 1):\n",
    "  word_count.loc[\"문서\" + str(i)] = 0\n",
    "for i in range(0, len(doc_ls)):\n",
    "  for j in doc_ls[i]:\n",
    "    word_count[j].loc[\"문서\" + str(i + 1)] += 1\n",
    "word_count"
   ]
  },
  {
   "cell_type": "code",
   "execution_count": 5,
   "metadata": {
    "executionInfo": {
     "elapsed": 5,
     "status": "ok",
     "timestamp": 1697177581491,
     "user": {
      "displayName": "최준호",
      "userId": "00706280605701392828"
     },
     "user_tz": -540
    },
    "id": "JellO2XQn7LO"
   },
   "outputs": [
    {
     "data": {
      "text/plain": [
       "[[1, 1, 0, 0, 0, 0],\n",
       " [1, 0, 1, 1, 0, 0],\n",
       " [0, 2, 0, 0, 1, 1],\n",
       " [0, 1, 1, 2, 0, 0]]"
      ]
     },
     "execution_count": 5,
     "metadata": {},
     "output_type": "execute_result"
    }
   ],
   "source": [
    "TDM_matrix = []\n",
    "TDM_matrix.append(list(word_count.loc['문서1']))\n",
    "TDM_matrix.append(list(word_count.loc['문서2']))\n",
    "TDM_matrix.append(list(word_count.loc['문서3']))\n",
    "TDM_matrix.append(list(word_count.loc['문서4']))\n",
    "TDM_matrix"
   ]
  },
  {
   "cell_type": "code",
   "execution_count": null,
   "metadata": {},
   "outputs": [],
   "source": []
  }
 ],
 "metadata": {
  "colab": {
   "authorship_tag": "ABX9TyNJWqa617L6Ud1yRb2YNS8n",
   "provenance": []
  },
  "kernelspec": {
   "display_name": "Python 3 (ipykernel)",
   "language": "python",
   "name": "python3"
  },
  "language_info": {
   "codemirror_mode": {
    "name": "ipython",
    "version": 3
   },
   "file_extension": ".py",
   "mimetype": "text/x-python",
   "name": "python",
   "nbconvert_exporter": "python",
   "pygments_lexer": "ipython3",
   "version": "3.11.5"
  }
 },
 "nbformat": 4,
 "nbformat_minor": 1
}
