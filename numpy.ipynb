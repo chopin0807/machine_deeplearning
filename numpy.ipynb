{
 "cells": [
  {
   "cell_type": "code",
   "execution_count": 1,
   "id": "9c877be7",
   "metadata": {},
   "outputs": [
    {
     "name": "stdout",
     "output_type": "stream",
     "text": [
      "[[2, 3], [4, 5]]\n"
     ]
    }
   ],
   "source": [
    "matrix_1 = [[1, 2],[3, 4]]\n",
    "for i in range(len(matrix_1)):\n",
    "    for j in range(len(matrix_1)):\n",
    "        matrix_1[i][j] = matrix_1[i][j] + 1\n",
    "print(matrix_1)"
   ]
  },
  {
   "cell_type": "code",
   "execution_count": 2,
   "id": "7260b045",
   "metadata": {},
   "outputs": [
    {
     "name": "stdout",
     "output_type": "stream",
     "text": [
      "[[2 3]\n",
      " [4 5]]\n"
     ]
    }
   ],
   "source": [
    "import numpy as np\n",
    "matrix_1 = [[1, 2],[3, 4]]\n",
    "matrix_1 = np.array(matrix_1) + 1\n",
    "print(matrix_1)"
   ]
  },
  {
   "cell_type": "code",
   "execution_count": 3,
   "id": "533195cc",
   "metadata": {},
   "outputs": [
    {
     "name": "stdout",
     "output_type": "stream",
     "text": [
      "uint32\n"
     ]
    }
   ],
   "source": [
    "x = np.uint(32)\n",
    "print(x.dtype)"
   ]
  },
  {
   "cell_type": "code",
   "execution_count": 4,
   "id": "205aed6b",
   "metadata": {},
   "outputs": [
    {
     "name": "stdout",
     "output_type": "stream",
     "text": [
      "float32\n"
     ]
    }
   ],
   "source": [
    "x = np.float32([1, 2, 3, 4])\n",
    "print(x.dtype)"
   ]
  },
  {
   "cell_type": "code",
   "execution_count": 5,
   "id": "7382c202",
   "metadata": {},
   "outputs": [
    {
     "data": {
      "text/plain": [
       "array([1., 2., 3., 4.], dtype=float32)"
      ]
     },
     "execution_count": 5,
     "metadata": {},
     "output_type": "execute_result"
    }
   ],
   "source": [
    "x"
   ]
  },
  {
   "cell_type": "code",
   "execution_count": 6,
   "id": "2fc6611a",
   "metadata": {},
   "outputs": [
    {
     "name": "stdout",
     "output_type": "stream",
     "text": [
      "float32\n"
     ]
    }
   ],
   "source": [
    "x = np.array([1, 2, 3, 4], dtype=np.float32)\n",
    "print(x.dtype)"
   ]
  },
  {
   "cell_type": "code",
   "execution_count": 7,
   "id": "6f966e8d",
   "metadata": {},
   "outputs": [
    {
     "name": "stdout",
     "output_type": "stream",
     "text": [
      "int32\n"
     ]
    },
    {
     "data": {
      "text/plain": [
       "True"
      ]
     },
     "execution_count": 7,
     "metadata": {},
     "output_type": "execute_result"
    }
   ],
   "source": [
    "x = np.int32(x)\n",
    "print(x.dtype)\n",
    "np.issubdtype(x.dtype, np.int32)"
   ]
  },
  {
   "cell_type": "code",
   "execution_count": 8,
   "id": "0920723e",
   "metadata": {},
   "outputs": [
    {
     "name": "stdout",
     "output_type": "stream",
     "text": [
      "()\n",
      "0\n",
      "1\n",
      "1\n"
     ]
    }
   ],
   "source": [
    "x = np.array(1)\n",
    "print(x.shape)\n",
    "print(x.ndim)\n",
    "print(x.size)\n",
    "print(x)"
   ]
  },
  {
   "cell_type": "code",
   "execution_count": 9,
   "id": "b2524ae0",
   "metadata": {},
   "outputs": [
    {
     "name": "stdout",
     "output_type": "stream",
     "text": [
      "(2,)\n",
      "1\n",
      "2\n",
      "[1 2]\n"
     ]
    }
   ],
   "source": [
    "x = np.array([1, 2])\n",
    "print(x.shape)\n",
    "print(x.ndim)\n",
    "print(x.size)\n",
    "print(x)"
   ]
  },
  {
   "cell_type": "code",
   "execution_count": 10,
   "id": "bc39db39",
   "metadata": {},
   "outputs": [
    {
     "name": "stdout",
     "output_type": "stream",
     "text": [
      "(2, 3)\n",
      "2\n",
      "6\n",
      "[[1 2 3]\n",
      " [4 5 6]]\n"
     ]
    }
   ],
   "source": [
    "x = np.array([[1, 2, 3], [4, 5, 6]])\n",
    "print(x.shape)\n",
    "print(x.ndim)\n",
    "print(x.size)\n",
    "print(x)"
   ]
  },
  {
   "cell_type": "code",
   "execution_count": 11,
   "id": "a7dca390",
   "metadata": {},
   "outputs": [
    {
     "name": "stdout",
     "output_type": "stream",
     "text": [
      "[0 1 2 3 4 5 6 7 8 9]\n"
     ]
    }
   ],
   "source": [
    "x = np.arange(10)\n",
    "print(x)"
   ]
  },
  {
   "cell_type": "code",
   "execution_count": 12,
   "id": "e1aa6dde",
   "metadata": {},
   "outputs": [
    {
     "name": "stdout",
     "output_type": "stream",
     "text": [
      "[0. 1. 2. 3. 4. 5. 6. 7. 8. 9.]\n"
     ]
    }
   ],
   "source": [
    "x = np.arange(10.0)\n",
    "print(x)"
   ]
  },
  {
   "cell_type": "code",
   "execution_count": 13,
   "id": "92ffbcee",
   "metadata": {},
   "outputs": [
    {
     "name": "stdout",
     "output_type": "stream",
     "text": [
      "[1 3 5 7 9]\n"
     ]
    }
   ],
   "source": [
    "x = np.arange(1, 10, 2)\n",
    "print(x)"
   ]
  },
  {
   "cell_type": "code",
   "execution_count": 14,
   "id": "aeb58e72",
   "metadata": {},
   "outputs": [
    {
     "name": "stdout",
     "output_type": "stream",
     "text": [
      "[1.  1.5 2.  2.5 3.  3.5 4.  4.5 5.  5.5 6.  6.5 7.  7.5 8.  8.5 9.  9.5]\n"
     ]
    }
   ],
   "source": [
    "x = np.arange(1, 10, 0.5)\n",
    "print(x)"
   ]
  },
  {
   "cell_type": "code",
   "execution_count": 15,
   "id": "df341b83",
   "metadata": {},
   "outputs": [
    {
     "name": "stdout",
     "output_type": "stream",
     "text": [
      "[10.   9.5  9.   8.5  8.   7.5  7.   6.5  6.   5.5  5.   4.5  4.   3.5\n",
      "  3.   2.5  2.   1.5]\n"
     ]
    }
   ],
   "source": [
    "x = np.arange(10, 1, -0.5)\n",
    "print(x)"
   ]
  },
  {
   "cell_type": "code",
   "execution_count": 16,
   "id": "b77baa64",
   "metadata": {},
   "outputs": [
    {
     "name": "stdout",
     "output_type": "stream",
     "text": [
      "[ 1.    5.75 10.5  15.25 20.  ]\n"
     ]
    }
   ],
   "source": [
    "x = np.linspace(1, 20, 5)\n",
    "print(x)"
   ]
  },
  {
   "cell_type": "code",
   "execution_count": 17,
   "id": "1c6be43a",
   "metadata": {},
   "outputs": [
    {
     "name": "stdout",
     "output_type": "stream",
     "text": [
      "[ 1.   2.9  4.8  6.7  8.6 10.5 12.4 14.3 16.2 18.1]\n"
     ]
    }
   ],
   "source": [
    "x = np.linspace(1, 20, 10, endpoint=False)\n",
    "print(x)"
   ]
  },
  {
   "cell_type": "code",
   "execution_count": 18,
   "id": "deee323a",
   "metadata": {},
   "outputs": [
    {
     "name": "stdout",
     "output_type": "stream",
     "text": [
      "[[0 1 2]\n",
      " [3 4 5]\n",
      " [6 7 8]]\n"
     ]
    }
   ],
   "source": [
    "x = np.arange(9).reshape(3, 3)\n",
    "print(x)"
   ]
  },
  {
   "cell_type": "code",
   "execution_count": 19,
   "id": "fd31333f",
   "metadata": {},
   "outputs": [
    {
     "name": "stdout",
     "output_type": "stream",
     "text": [
      "[[[ 0  1  2  3]\n",
      "  [ 4  5  6  7]\n",
      "  [ 8  9 10 11]]\n",
      "\n",
      " [[12 13 14 15]\n",
      "  [16 17 18 19]\n",
      "  [20 21 22 23]]]\n"
     ]
    }
   ],
   "source": [
    "x = np.arange(24).reshape(2, 3, 4)\n",
    "print(x)"
   ]
  },
  {
   "cell_type": "code",
   "execution_count": 20,
   "id": "9ed7a3c1",
   "metadata": {},
   "outputs": [
    {
     "name": "stdout",
     "output_type": "stream",
     "text": [
      "[[[[ 0  1]\n",
      "   [ 2  3]]\n",
      "\n",
      "  [[ 4  5]\n",
      "   [ 6  7]]]\n",
      "\n",
      "\n",
      " [[[ 8  9]\n",
      "   [10 11]]\n",
      "\n",
      "  [[12 13]\n",
      "   [14 15]]]]\n"
     ]
    }
   ],
   "source": [
    "x = np.arange(16).reshape(2, 2, 2, 2)\n",
    "print(x)"
   ]
  },
  {
   "cell_type": "code",
   "execution_count": 21,
   "id": "31bb5339",
   "metadata": {},
   "outputs": [
    {
     "name": "stdout",
     "output_type": "stream",
     "text": [
      "[[1 2]\n",
      " [3 4]\n",
      " [5 6]]\n",
      "[[1 2 3]\n",
      " [4 5 6]]\n"
     ]
    }
   ],
   "source": [
    "x = np.array([[1,2],[3,4],[5,6]])\n",
    "print(x)\n",
    "print(x.reshape(2,3))"
   ]
  },
  {
   "cell_type": "code",
   "execution_count": 22,
   "id": "8d8947fb",
   "metadata": {},
   "outputs": [
    {
     "name": "stdout",
     "output_type": "stream",
     "text": [
      "[10.   9.5  9.   8.5  8.   7.5  7.   6.5  6.   5.5  5.   4.5  4.   3.5\n",
      "  3.   2.5  2.   1.5]\n"
     ]
    }
   ],
   "source": [
    "x = np.arange(10, 1, -0.5)\n",
    "print(x)"
   ]
  },
  {
   "cell_type": "code",
   "execution_count": 23,
   "id": "c031b449",
   "metadata": {},
   "outputs": [
    {
     "name": "stdout",
     "output_type": "stream",
     "text": [
      "[1 2]\n"
     ]
    }
   ],
   "source": [
    "# 1차원 슬라이싱\n",
    "x = np.arange(20)\n",
    "print(x[1:3])"
   ]
  },
  {
   "cell_type": "code",
   "execution_count": 24,
   "id": "9148808b",
   "metadata": {},
   "outputs": [
    {
     "data": {
      "text/plain": [
       "array([ 2,  3,  4,  5,  6,  7,  8,  9, 10, 11, 12, 13, 14, 15, 16, 17, 18,\n",
       "       19])"
      ]
     },
     "execution_count": 24,
     "metadata": {},
     "output_type": "execute_result"
    }
   ],
   "source": [
    "x[2:]"
   ]
  },
  {
   "cell_type": "code",
   "execution_count": 25,
   "id": "ccdad6c7",
   "metadata": {},
   "outputs": [
    {
     "data": {
      "text/plain": [
       "array([18, 19])"
      ]
     },
     "execution_count": 25,
     "metadata": {},
     "output_type": "execute_result"
    }
   ],
   "source": [
    "x[-2:]"
   ]
  },
  {
   "cell_type": "code",
   "execution_count": 26,
   "id": "2275c1b6",
   "metadata": {},
   "outputs": [
    {
     "name": "stdout",
     "output_type": "stream",
     "text": [
      "[[ 0  1  2  3  4]\n",
      " [ 5  6  7  8  9]\n",
      " [10 11 12 13 14]\n",
      " [15 16 17 18 19]]\n",
      "[[ 5  6  7  8  9]\n",
      " [10 11 12 13 14]]\n",
      "[[ 6  7]\n",
      " [11 12]]\n"
     ]
    }
   ],
   "source": [
    "# 2차원 슬라이싱\n",
    "x = np.arange(20).reshape(4,5)\n",
    "print(x)\n",
    "print(x[1:3])\n",
    "print(x[1:3, 1:3])"
   ]
  },
  {
   "cell_type": "code",
   "execution_count": 27,
   "id": "deecafbd",
   "metadata": {},
   "outputs": [
    {
     "name": "stdout",
     "output_type": "stream",
     "text": [
      "[[[ 0  1  2]\n",
      "  [ 3  4  5]\n",
      "  [ 6  7  8]\n",
      "  [ 9 10 11]\n",
      "  [12 13 14]]\n",
      "\n",
      " [[15 16 17]\n",
      "  [18 19 20]\n",
      "  [21 22 23]\n",
      "  [24 25 26]\n",
      "  [27 28 29]]]\n",
      "[[10 13]\n",
      " [25 28]]\n"
     ]
    }
   ],
   "source": [
    "# 3차원 슬라이싱\n",
    "x = np.arange(30).reshape(2,5,3)\n",
    "print(x)\n",
    "print(x[:,3:5,1])"
   ]
  },
  {
   "cell_type": "code",
   "execution_count": 28,
   "id": "db1fc9dd",
   "metadata": {},
   "outputs": [
    {
     "data": {
      "text/plain": [
       "array([[ 0,  1,  2,  3,  4],\n",
       "       [ 5,  6,  7,  8,  9],\n",
       "       [10, 11, 12, 13, 14],\n",
       "       [15, 16, 17, 18, 19]])"
      ]
     },
     "execution_count": 28,
     "metadata": {},
     "output_type": "execute_result"
    }
   ],
   "source": [
    "a = np.arange(20).reshape(4, 5)\n",
    "a"
   ]
  },
  {
   "cell_type": "code",
   "execution_count": 29,
   "id": "9ac8ca23",
   "metadata": {},
   "outputs": [
    {
     "name": "stdout",
     "output_type": "stream",
     "text": [
      "6\n",
      "6\n",
      "[6 7]\n"
     ]
    }
   ],
   "source": [
    "# indexing\n",
    "print(a[1][1])\n",
    "print(a[1,1])\n",
    "print(a[[1,1],[1,2]])"
   ]
  },
  {
   "cell_type": "code",
   "execution_count": 30,
   "id": "16476402",
   "metadata": {},
   "outputs": [
    {
     "name": "stdout",
     "output_type": "stream",
     "text": [
      "[[False False False False  True]\n",
      " [ True  True  True  True  True]\n",
      " [ True  True  True  True  True]\n",
      " [ True  True  True  True  True]]\n",
      "[ 4  5  6  7  8  9 10 11 12 13 14 15 16 17 18 19]\n",
      "[1]\n",
      "[ 0  2  3  4  5  6  7  8  9 10 11 12 13 14 15 16 17 18 19]\n",
      "[4 5 6 7]\n"
     ]
    }
   ],
   "source": [
    "# boolean indexing\n",
    "print(a > 3)\n",
    "print(a[a > 3])\n",
    "print(a[a == 1])\n",
    "print(a[~(a == 1)])\n",
    "print(a[(a > 3)&(a < 8)])"
   ]
  },
  {
   "cell_type": "code",
   "execution_count": 31,
   "id": "e1374cde",
   "metadata": {},
   "outputs": [
    {
     "data": {
      "text/plain": [
       "array([[0.16711108, 0.10846655, 0.65913313, 0.97316134, 0.32002499],\n",
       "       [0.95816595, 0.17671163, 0.29431695, 0.62355323, 0.21448099],\n",
       "       [0.96296995, 0.08947554, 0.76402182, 0.46247073, 0.51005926],\n",
       "       [0.16716801, 0.27047471, 0.24179014, 0.99097636, 0.1935522 ],\n",
       "       [0.21265558, 0.73279119, 0.01757137, 0.97532813, 0.98940897]])"
      ]
     },
     "execution_count": 31,
     "metadata": {},
     "output_type": "execute_result"
    }
   ],
   "source": [
    "np.random.rand(5,5)"
   ]
  },
  {
   "cell_type": "code",
   "execution_count": 32,
   "id": "d8530af1",
   "metadata": {},
   "outputs": [
    {
     "data": {
      "text/plain": [
       "6"
      ]
     },
     "execution_count": 32,
     "metadata": {},
     "output_type": "execute_result"
    }
   ],
   "source": [
    "np.random.randint(1, 10)"
   ]
  },
  {
   "cell_type": "code",
   "execution_count": 33,
   "id": "b55060ed",
   "metadata": {},
   "outputs": [
    {
     "data": {
      "text/plain": [
       "array([5, 6, 7, 3, 6])"
      ]
     },
     "execution_count": 33,
     "metadata": {},
     "output_type": "execute_result"
    }
   ],
   "source": [
    "np.random.randint(1, 10, size=(5))"
   ]
  },
  {
   "cell_type": "code",
   "execution_count": 34,
   "id": "b583fa63",
   "metadata": {},
   "outputs": [
    {
     "data": {
      "text/plain": [
       "array([[3, 9, 9, 5, 8],\n",
       "       [6, 6, 9, 1, 3],\n",
       "       [3, 3, 2, 1, 5],\n",
       "       [8, 7, 9, 4, 9],\n",
       "       [1, 1, 1, 2, 9]])"
      ]
     },
     "execution_count": 34,
     "metadata": {},
     "output_type": "execute_result"
    }
   ],
   "source": [
    "np.random.randint(1, 10, size=(5, 5))"
   ]
  },
  {
   "cell_type": "code",
   "execution_count": 35,
   "id": "738469f9",
   "metadata": {},
   "outputs": [
    {
     "data": {
      "text/plain": [
       "array([[4, 1],\n",
       "       [5, 6]])"
      ]
     },
     "execution_count": 35,
     "metadata": {},
     "output_type": "execute_result"
    }
   ],
   "source": [
    "np.random.choice(100, size=(3, 4))\n",
    "x = np.array([1, 2, 3, 4, 5, 6, 7, 8])\n",
    "np.random.choice(x, size=(2, 2)) # 분석하는 과정에서 쓰이지 않음"
   ]
  },
  {
   "cell_type": "code",
   "execution_count": 36,
   "id": "372672ce",
   "metadata": {},
   "outputs": [
    {
     "data": {
      "text/plain": [
       "array([[1., 1., 1., 1., 1.],\n",
       "       [1., 1., 1., 1., 1.],\n",
       "       [1., 1., 1., 1., 1.],\n",
       "       [1., 1., 1., 1., 1.],\n",
       "       [1., 1., 1., 1., 1.]])"
      ]
     },
     "execution_count": 36,
     "metadata": {},
     "output_type": "execute_result"
    }
   ],
   "source": [
    "np.ones([5, 5])"
   ]
  },
  {
   "cell_type": "code",
   "execution_count": 37,
   "id": "b19a7c58",
   "metadata": {},
   "outputs": [
    {
     "data": {
      "text/plain": [
       "array([[0., 0., 0., 0., 0.],\n",
       "       [0., 0., 0., 0., 0.],\n",
       "       [0., 0., 0., 0., 0.],\n",
       "       [0., 0., 0., 0., 0.],\n",
       "       [0., 0., 0., 0., 0.]])"
      ]
     },
     "execution_count": 37,
     "metadata": {},
     "output_type": "execute_result"
    }
   ],
   "source": [
    "np.zeros([5, 5])"
   ]
  },
  {
   "cell_type": "code",
   "execution_count": 38,
   "id": "acca7c0b",
   "metadata": {},
   "outputs": [
    {
     "data": {
      "text/plain": [
       "array([[1., 0., 0., 0., 0.],\n",
       "       [0., 1., 0., 0., 0.],\n",
       "       [0., 0., 1., 0., 0.],\n",
       "       [0., 0., 0., 1., 0.],\n",
       "       [0., 0., 0., 0., 1.]])"
      ]
     },
     "execution_count": 38,
     "metadata": {},
     "output_type": "execute_result"
    }
   ],
   "source": [
    "np.eye(5)"
   ]
  },
  {
   "cell_type": "code",
   "execution_count": 39,
   "id": "eef0addc",
   "metadata": {},
   "outputs": [
    {
     "data": {
      "text/plain": [
       "array([1, 2, 3, 4, 5, 6])"
      ]
     },
     "execution_count": 39,
     "metadata": {},
     "output_type": "execute_result"
    }
   ],
   "source": [
    "x = np.arange(1, 4)\n",
    "y = np.arange(4, 7)\n",
    "np.concatenate([x, y])"
   ]
  },
  {
   "cell_type": "code",
   "execution_count": 40,
   "id": "f64f008d",
   "metadata": {},
   "outputs": [
    {
     "data": {
      "text/plain": [
       "array([[ 0,  1,  2,  3,  4, 10, 11, 12, 13, 14],\n",
       "       [ 5,  6,  7,  8,  9, 15, 16, 17, 18, 19]])"
      ]
     },
     "execution_count": 40,
     "metadata": {},
     "output_type": "execute_result"
    }
   ],
   "source": [
    "x = np.arange(10).reshape(2, 5)\n",
    "y = np.arange(10, 20).reshape(2, 5)\n",
    "np.concatenate([x, y])\n",
    "np.concatenate([x, y], axis=1)"
   ]
  },
  {
   "cell_type": "code",
   "execution_count": 41,
   "id": "69035b5d",
   "metadata": {},
   "outputs": [
    {
     "data": {
      "text/plain": [
       "[array([0, 1, 2]), array([3, 4, 5]), array([6, 7, 8]), array([ 9, 10, 11])]"
      ]
     },
     "execution_count": 41,
     "metadata": {},
     "output_type": "execute_result"
    }
   ],
   "source": [
    "x = np.arange(12)\n",
    "np.split(x, 4)"
   ]
  },
  {
   "cell_type": "code",
   "execution_count": 42,
   "id": "6bc64923",
   "metadata": {},
   "outputs": [
    {
     "data": {
      "text/plain": [
       "[array([[0, 1, 2, 3],\n",
       "        [4, 5, 6, 7]]),\n",
       " array([[ 8,  9, 10, 11],\n",
       "        [12, 13, 14, 15]])]"
      ]
     },
     "execution_count": 42,
     "metadata": {},
     "output_type": "execute_result"
    }
   ],
   "source": [
    "x = np.arange(16).reshape(4, 4)\n",
    "np.split(x, 2)"
   ]
  },
  {
   "cell_type": "code",
   "execution_count": 43,
   "id": "1eb3700f",
   "metadata": {},
   "outputs": [
    {
     "data": {
      "text/plain": [
       "[array([[ 0,  1],\n",
       "        [ 4,  5],\n",
       "        [ 8,  9],\n",
       "        [12, 13]]),\n",
       " array([[ 2,  3],\n",
       "        [ 6,  7],\n",
       "        [10, 11],\n",
       "        [14, 15]])]"
      ]
     },
     "execution_count": 43,
     "metadata": {},
     "output_type": "execute_result"
    }
   ],
   "source": [
    "x = np.arange(16).reshape(4, 4)\n",
    "np.split(x, 2, axis=1)"
   ]
  },
  {
   "cell_type": "code",
   "execution_count": 44,
   "id": "a45045fc",
   "metadata": {},
   "outputs": [
    {
     "data": {
      "text/plain": [
       "array([2, 3, 4])"
      ]
     },
     "execution_count": 44,
     "metadata": {},
     "output_type": "execute_result"
    }
   ],
   "source": [
    "x = np.array([1,2,3])\n",
    "x + 1"
   ]
  },
  {
   "cell_type": "code",
   "execution_count": 45,
   "id": "ca7657ef",
   "metadata": {},
   "outputs": [
    {
     "data": {
      "text/plain": [
       "array([[ 2,  4,  6],\n",
       "       [ 5,  7,  9],\n",
       "       [ 8, 10, 12]])"
      ]
     },
     "execution_count": 45,
     "metadata": {},
     "output_type": "execute_result"
    }
   ],
   "source": [
    "x = np.arange(1, 10).reshape(3, 3)\n",
    "y = np.arange(1, 4)\n",
    "x + y"
   ]
  },
  {
   "cell_type": "code",
   "execution_count": 46,
   "id": "4bf8b68d",
   "metadata": {},
   "outputs": [
    {
     "data": {
      "text/plain": [
       "array([[11, 12, 13],\n",
       "       [21, 22, 23],\n",
       "       [31, 32, 33]])"
      ]
     },
     "execution_count": 46,
     "metadata": {},
     "output_type": "execute_result"
    }
   ],
   "source": [
    "x = np.array([10, 20, 30]).reshape(3, 1)\n",
    "y = np.arange(1, 4)\n",
    "x + y"
   ]
  },
  {
   "cell_type": "code",
   "execution_count": 47,
   "id": "3042e66a",
   "metadata": {},
   "outputs": [
    {
     "name": "stdout",
     "output_type": "stream",
     "text": [
      "[[ 2  3]\n",
      " [ 6 11]]\n",
      "[[0 2]\n",
      " [1 3]]\n",
      "[[-1.5  0.5]\n",
      " [ 1.   0. ]]\n",
      "-2.0\n",
      "1.5\n",
      "1.5\n",
      "1.118033988749895\n",
      "1.25\n",
      "6\n",
      "[1 5]\n"
     ]
    }
   ],
   "source": [
    "x = np.arange(4).reshape(2, 2)\n",
    "y = np.arange(4).reshape(2, 2)\n",
    "print(x.dot(y)) # 행렬곱\n",
    "print(np.transpose(x)) # 전치행렬\n",
    "print(np.linalg.inv(x)) # 역행렬\n",
    "print(np.linalg.det(x)) # 행렬식\n",
    "print(np.mean(x)) # 평균\n",
    "print(np.median(x)) # 중앙값\n",
    "print(np.std(x)) # 표준편차\n",
    "print(np.var(x)) # 분산\n",
    "print(np.sum(x)) # 합\n",
    "print(np.sum(x, axis=1)) # 합,축변경"
   ]
  },
  {
   "cell_type": "code",
   "execution_count": 48,
   "id": "1a1c3cb5",
   "metadata": {},
   "outputs": [
    {
     "name": "stdout",
     "output_type": "stream",
     "text": [
      "[0 1 3 6]\n",
      "[0 0 0 0]\n",
      "0\n",
      "0\n",
      "3\n",
      "False\n",
      "False\n",
      "(array([], dtype=int64), array([], dtype=int64))\n",
      "[[-100 -100]\n",
      " [-100 -100]]\n"
     ]
    }
   ],
   "source": [
    "print(np.cumsum(x)) # 누적합\n",
    "print(np.cumprod(x)) # 누적곱\n",
    "print(np.min(x)) # 최소값\n",
    "print(np.argmin(x)) # 최소값 위치\n",
    "print(np.argmax(x)) # 최대값 위치\n",
    "print(np.any(x > 4)) # 하나라도 참이어야 참\n",
    "print(np.all(x > 4)) # 모든 요소가 참이어야 참\n",
    "print(np.where(x > 4)) # 조건에 맞는위치\n",
    "print(np.where(x > 4, x, -100)) # 조건, True 일경우, False 일경우"
   ]
  },
  {
   "cell_type": "markdown",
   "id": "c697c52b",
   "metadata": {},
   "source": [
    "## 실습 01"
   ]
  },
  {
   "cell_type": "code",
   "execution_count": 49,
   "id": "4f1a4474",
   "metadata": {},
   "outputs": [
    {
     "name": "stdout",
     "output_type": "stream",
     "text": [
      "[[11 22 33]\n",
      " [44 55 66]\n",
      " [77 88 99]]\n",
      "[[ 300  360  420]\n",
      " [ 660  810  960]\n",
      " [1020 1260 1500]]\n"
     ]
    }
   ],
   "source": [
    "x = np.arange(1, 10).reshape(3, 3)\n",
    "y = np.arange(10, 100, 10).reshape(3, 3)\n",
    "print(x + y)\n",
    "print(np.dot(x, y))"
   ]
  },
  {
   "cell_type": "markdown",
   "id": "cbd938a6",
   "metadata": {},
   "source": [
    "## 실습 02"
   ]
  },
  {
   "cell_type": "code",
   "execution_count": 50,
   "id": "8a5f136d",
   "metadata": {},
   "outputs": [
    {
     "name": "stdout",
     "output_type": "stream",
     "text": [
      "[11.         11.65517241 12.31034483 12.96551724 13.62068966 14.27586207\n",
      " 14.93103448 15.5862069  16.24137931 16.89655172 17.55172414 18.20689655\n",
      " 18.86206897 19.51724138 20.17241379 20.82758621 21.48275862 22.13793103\n",
      " 22.79310345 23.44827586 24.10344828 24.75862069 25.4137931  26.06896552\n",
      " 26.72413793 27.37931034 28.03448276 28.68965517 29.34482759 30.        ]\n"
     ]
    }
   ],
   "source": [
    "x = np.linspace(1, 20, 30)\n",
    "print(x + 10)"
   ]
  },
  {
   "cell_type": "markdown",
   "id": "68d0d38f",
   "metadata": {},
   "source": [
    "## 실습 03"
   ]
  },
  {
   "cell_type": "code",
   "execution_count": 51,
   "id": "e8a641c0",
   "metadata": {},
   "outputs": [
    {
     "name": "stdout",
     "output_type": "stream",
     "text": [
      "[[[53 19 63 51 15 73 20 78 66 58]\n",
      "  [61 66 66 45 15 34 51 89 87 33]\n",
      "  [ 5 55 33 39 77 54 40 39 76 98]\n",
      "  [ 8 31 59 29 52 33 84 97 67 49]\n",
      "  [ 1  2 37 18 61 76 90 76 15 54]\n",
      "  [21  6 25 69  1 48 53 81  4 23]\n",
      "  [66  3 87 95 46 39  7 45 72 71]\n",
      "  [ 6 75 28  2 28 64 52 89 65 43]\n",
      "  [21  4 96 73 12  9 93 28 50 54]\n",
      "  [66 69 91 65 55 88 24 56 74 49]]\n",
      "\n",
      " [[17 45 29 40 10 10 65 10 65 47]\n",
      "  [78 74 25 68 46 58  3 77 95 79]\n",
      "  [68 76 49 50 34 94 38 49 28 41]\n",
      "  [73 48 72 64 12 81 79 72 85 55]\n",
      "  [53 38 36 65 62 80 43 27 51 74]\n",
      "  [48 45 27 28 31 77 28 72 52 13]\n",
      "  [24 56 88 14 14 65 12 32 36 46]\n",
      "  [61 16 74 40 63 36 19 54 57 13]\n",
      "  [19 63 73 33 40  3 95  9 83 20]\n",
      "  [60  7 77 74 61 86 52 38 47 70]]]\n"
     ]
    }
   ],
   "source": [
    "x = np.random.randint(1, 100, size=(2, 10, 10))\n",
    "print(x)"
   ]
  },
  {
   "cell_type": "code",
   "execution_count": 52,
   "id": "ce2e8f49",
   "metadata": {},
   "outputs": [
    {
     "name": "stdout",
     "output_type": "stream",
     "text": [
      "[[[1 2 1 1 2 1 2 1 1 1]\n",
      "  [1 1 1 2 2 2 1 1 1 2]\n",
      "  [2 1 2 2 1 1 2 2 1 1]\n",
      "  [2 2 1 2 1 2 1 1 1 2]\n",
      "  [2 2 2 2 1 1 1 1 2 1]\n",
      "  [2 2 2 1 2 2 1 1 2 2]\n",
      "  [1 2 1 1 2 2 2 2 1 1]\n",
      "  [2 1 2 2 2 1 1 1 1 2]\n",
      "  [2 2 1 1 2 2 1 2 1 1]\n",
      "  [1 1 1 1 1 1 2 1 1 2]]\n",
      "\n",
      " [[2 2 2 2 2 2 1 2 1 2]\n",
      "  [1 1 2 1 2 1 2 1 1 1]\n",
      "  [1 1 2 1 2 1 2 2 2 2]\n",
      "  [1 2 1 1 2 1 1 1 1 1]\n",
      "  [1 2 2 1 1 1 2 2 1 1]\n",
      "  [2 2 2 2 2 1 2 1 1 2]\n",
      "  [2 1 1 2 2 1 2 2 2 2]\n",
      "  [1 2 1 2 1 2 2 1 1 2]\n",
      "  [2 1 1 2 2 2 1 2 1 2]\n",
      "  [1 2 1 1 1 1 1 2 2 1]]]\n"
     ]
    }
   ],
   "source": [
    "y = np.where(x >= 50, 1, 2)\n",
    "print(y)"
   ]
  },
  {
   "cell_type": "code",
   "execution_count": 53,
   "id": "04dbf764",
   "metadata": {},
   "outputs": [
    {
     "data": {
      "text/plain": [
       "array([[1, 2, 1, 1, 2],\n",
       "       [1, 2, 2, 2, 2],\n",
       "       [2, 2, 1, 1, 2],\n",
       "       [2, 1, 2, 1, 2],\n",
       "       [1, 1, 2, 2, 1]])"
      ]
     },
     "execution_count": 53,
     "metadata": {},
     "output_type": "execute_result"
    }
   ],
   "source": [
    "np.split(y[1][5:], 2, axis = 1)[1]"
   ]
  },
  {
   "cell_type": "code",
   "execution_count": null,
   "id": "89f39ff5",
   "metadata": {},
   "outputs": [],
   "source": []
  }
 ],
 "metadata": {
  "kernelspec": {
   "display_name": "Python 3 (ipykernel)",
   "language": "python",
   "name": "python3"
  },
  "language_info": {
   "codemirror_mode": {
    "name": "ipython",
    "version": 3
   },
   "file_extension": ".py",
   "mimetype": "text/x-python",
   "name": "python",
   "nbconvert_exporter": "python",
   "pygments_lexer": "ipython3",
   "version": "3.11.4"
  }
 },
 "nbformat": 4,
 "nbformat_minor": 5
}
