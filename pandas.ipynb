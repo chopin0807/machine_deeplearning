{
 "cells": [
  {
   "cell_type": "code",
   "execution_count": 1,
   "id": "2e8f8f18",
   "metadata": {},
   "outputs": [
    {
     "data": {
      "text/plain": [
       "0    1\n",
       "1    2\n",
       "2    3\n",
       "3    4\n",
       "4    5\n",
       "dtype: int64"
      ]
     },
     "execution_count": 1,
     "metadata": {},
     "output_type": "execute_result"
    }
   ],
   "source": [
    "import pandas as pd\n",
    "import numpy as np\n",
    "x = [1, 2, 3, 4, 5]\n",
    "x = pd.Series(x) # Series 생성\n",
    "x"
   ]
  },
  {
   "cell_type": "code",
   "execution_count": 2,
   "id": "73ef16bb",
   "metadata": {},
   "outputs": [
    {
     "data": {
      "text/plain": [
       "3"
      ]
     },
     "execution_count": 2,
     "metadata": {},
     "output_type": "execute_result"
    }
   ],
   "source": [
    "x[2]"
   ]
  },
  {
   "cell_type": "code",
   "execution_count": 3,
   "id": "2c411b80",
   "metadata": {},
   "outputs": [
    {
     "data": {
      "text/plain": [
       "0    1\n",
       "1    2\n",
       "2    3\n",
       "3    4\n",
       "4    5\n",
       "dtype: int64"
      ]
     },
     "execution_count": 3,
     "metadata": {},
     "output_type": "execute_result"
    }
   ],
   "source": [
    "x = [1, 2, 3, 4, 5]\n",
    "x = pd.Series(x)\n",
    "x"
   ]
  },
  {
   "cell_type": "code",
   "execution_count": 4,
   "id": "ec058bdd",
   "metadata": {},
   "outputs": [
    {
     "data": {
      "text/plain": [
       "1"
      ]
     },
     "execution_count": 4,
     "metadata": {},
     "output_type": "execute_result"
    }
   ],
   "source": [
    "x[0] # 1"
   ]
  },
  {
   "cell_type": "code",
   "execution_count": 5,
   "id": "b6048cf5",
   "metadata": {},
   "outputs": [
    {
     "data": {
      "text/plain": [
       "1    2\n",
       "2    3\n",
       "dtype: int64"
      ]
     },
     "execution_count": 5,
     "metadata": {},
     "output_type": "execute_result"
    }
   ],
   "source": [
    "x[1: 3] # 2, 3"
   ]
  },
  {
   "cell_type": "code",
   "execution_count": 6,
   "id": "336f1619",
   "metadata": {},
   "outputs": [
    {
     "data": {
      "text/plain": [
       "4    5\n",
       "3    4\n",
       "2    3\n",
       "1    2\n",
       "0    1\n",
       "dtype: int64"
      ]
     },
     "execution_count": 6,
     "metadata": {},
     "output_type": "execute_result"
    }
   ],
   "source": [
    "x[::-1] # 5, 4, 3, 2, 1"
   ]
  },
  {
   "cell_type": "code",
   "execution_count": 7,
   "id": "3dddad09",
   "metadata": {},
   "outputs": [
    {
     "data": {
      "text/plain": [
       "3    4\n",
       "4    5\n",
       "dtype: int64"
      ]
     },
     "execution_count": 7,
     "metadata": {},
     "output_type": "execute_result"
    }
   ],
   "source": [
    "x[x > 3] # 4, 5"
   ]
  },
  {
   "cell_type": "code",
   "execution_count": 8,
   "id": "3895ae26",
   "metadata": {},
   "outputs": [
    {
     "data": {
      "text/plain": [
       "0    2\n",
       "1    3\n",
       "2    4\n",
       "3    5\n",
       "4    6\n",
       "dtype: int64"
      ]
     },
     "execution_count": 8,
     "metadata": {},
     "output_type": "execute_result"
    }
   ],
   "source": [
    "x + 1 # 2, 3, 4, 5, 6"
   ]
  },
  {
   "cell_type": "code",
   "execution_count": 9,
   "id": "2a6f241f",
   "metadata": {},
   "outputs": [
    {
     "data": {
      "text/plain": [
       "0    10\n",
       "1    20\n",
       "2    30\n",
       "3    40\n",
       "4    50\n",
       "dtype: int64"
      ]
     },
     "execution_count": 9,
     "metadata": {},
     "output_type": "execute_result"
    }
   ],
   "source": [
    "x * 10 # 10, 20, 30, 40, 50"
   ]
  },
  {
   "cell_type": "code",
   "execution_count": 10,
   "id": "585a2f54",
   "metadata": {},
   "outputs": [
    {
     "data": {
      "text/plain": [
       "0     2\n",
       "1     4\n",
       "2     6\n",
       "3     8\n",
       "4    10\n",
       "dtype: int64"
      ]
     },
     "execution_count": 10,
     "metadata": {},
     "output_type": "execute_result"
    }
   ],
   "source": [
    "x + x # 2, 4, 6, 8, 10"
   ]
  },
  {
   "cell_type": "code",
   "execution_count": 11,
   "id": "c80903b5",
   "metadata": {},
   "outputs": [
    {
     "data": {
      "text/plain": [
       "a    1\n",
       "b    2\n",
       "c    3\n",
       "d    4\n",
       "e    5\n",
       "dtype: int64"
      ]
     },
     "execution_count": 11,
     "metadata": {},
     "output_type": "execute_result"
    }
   ],
   "source": [
    "x = [1, 2, 3, 4, 5]\n",
    "x = pd.Series(x, index=['a','b','c','d','e'])\n",
    "x"
   ]
  },
  {
   "cell_type": "code",
   "execution_count": 12,
   "id": "ebd4b332",
   "metadata": {},
   "outputs": [
    {
     "data": {
      "text/plain": [
       "1"
      ]
     },
     "execution_count": 12,
     "metadata": {},
     "output_type": "execute_result"
    }
   ],
   "source": [
    "x['a']"
   ]
  },
  {
   "cell_type": "code",
   "execution_count": 13,
   "id": "3eac2b65",
   "metadata": {},
   "outputs": [
    {
     "name": "stdout",
     "output_type": "stream",
     "text": [
      "1\n",
      "1\n",
      "a    1\n",
      "e    5\n",
      "dtype: int64\n",
      "1\n"
     ]
    }
   ],
   "source": [
    "print(x['a']) # 명시적 인덱스접근\n",
    "print(x[0]) # 묵시적 인덱스접근\n",
    "print(x[['a','e']]) # 팬시색인, 한번에 여러값 접근\n",
    "print(x.a) # 또다른 접근방법"
   ]
  },
  {
   "cell_type": "code",
   "execution_count": 14,
   "id": "b165581c",
   "metadata": {},
   "outputs": [
    {
     "data": {
      "text/plain": [
       "수학    90\n",
       "영어    80\n",
       "과학    95\n",
       "미술    80\n",
       "dtype: int64"
      ]
     },
     "execution_count": 14,
     "metadata": {},
     "output_type": "execute_result"
    }
   ],
   "source": [
    "x = {\"수학\":90, \"영어\":80, \"과학\":95, \"미술\":80}\n",
    "x = pd.Series(x)\n",
    "x"
   ]
  },
  {
   "cell_type": "code",
   "execution_count": 15,
   "id": "6daf34d5",
   "metadata": {},
   "outputs": [
    {
     "name": "stdout",
     "output_type": "stream",
     "text": [
      "10.0\n",
      "4.0\n",
      "1.0\n"
     ]
    }
   ],
   "source": [
    "x = [1, None, 2, None, 3, 4, None]\n",
    "x = pd.Series(x)\n",
    "# 결측값을 무시하고 계산\n",
    "print(x.sum()) # 10\n",
    "print(x.max()) # 4\n",
    "print(x.min()) # 1"
   ]
  },
  {
   "cell_type": "code",
   "execution_count": 16,
   "id": "f39e9733",
   "metadata": {},
   "outputs": [
    {
     "name": "stdout",
     "output_type": "stream",
     "text": [
      "3\n",
      "4\n"
     ]
    },
    {
     "data": {
      "text/plain": [
       "0    1.0\n",
       "1    0.0\n",
       "2    2.0\n",
       "3    0.0\n",
       "4    3.0\n",
       "5    4.0\n",
       "6    0.0\n",
       "dtype: float64"
      ]
     },
     "execution_count": 16,
     "metadata": {},
     "output_type": "execute_result"
    }
   ],
   "source": [
    "#결측값 개수\n",
    "print(x.isnull().sum()) # 3\n",
    "print(x.notnull().sum()) # 4\n",
    "#결측값 제거\n",
    "x.dropna()\n",
    "#결측값을 다른값으로 채우기\n",
    "x.fillna(0)"
   ]
  },
  {
   "cell_type": "code",
   "execution_count": 17,
   "id": "3d40282f",
   "metadata": {},
   "outputs": [
    {
     "data": {
      "text/plain": [
       "0    1\n",
       "1    2\n",
       "2    3\n",
       "0    4\n",
       "1    5\n",
       "2    6\n",
       "0    7\n",
       "1    8\n",
       "2    9\n",
       "dtype: int64"
      ]
     },
     "execution_count": 17,
     "metadata": {},
     "output_type": "execute_result"
    }
   ],
   "source": [
    "x = pd.Series([1, 2, 3])\n",
    "y = pd.Series([4, 5, 6])\n",
    "z = pd.Series([7, 8, 9])\n",
    "pd.concat([x, y, z])"
   ]
  },
  {
   "cell_type": "code",
   "execution_count": 18,
   "id": "7c221056",
   "metadata": {},
   "outputs": [
    {
     "data": {
      "text/html": [
       "<div>\n",
       "<style scoped>\n",
       "    .dataframe tbody tr th:only-of-type {\n",
       "        vertical-align: middle;\n",
       "    }\n",
       "\n",
       "    .dataframe tbody tr th {\n",
       "        vertical-align: top;\n",
       "    }\n",
       "\n",
       "    .dataframe thead th {\n",
       "        text-align: right;\n",
       "    }\n",
       "</style>\n",
       "<table border=\"1\" class=\"dataframe\">\n",
       "  <thead>\n",
       "    <tr style=\"text-align: right;\">\n",
       "      <th></th>\n",
       "      <th>0</th>\n",
       "      <th>1</th>\n",
       "      <th>2</th>\n",
       "    </tr>\n",
       "  </thead>\n",
       "  <tbody>\n",
       "    <tr>\n",
       "      <th>0</th>\n",
       "      <td>1</td>\n",
       "      <td>4</td>\n",
       "      <td>7</td>\n",
       "    </tr>\n",
       "    <tr>\n",
       "      <th>1</th>\n",
       "      <td>2</td>\n",
       "      <td>5</td>\n",
       "      <td>8</td>\n",
       "    </tr>\n",
       "    <tr>\n",
       "      <th>2</th>\n",
       "      <td>3</td>\n",
       "      <td>6</td>\n",
       "      <td>9</td>\n",
       "    </tr>\n",
       "  </tbody>\n",
       "</table>\n",
       "</div>"
      ],
      "text/plain": [
       "   0  1  2\n",
       "0  1  4  7\n",
       "1  2  5  8\n",
       "2  3  6  9"
      ]
     },
     "execution_count": 18,
     "metadata": {},
     "output_type": "execute_result"
    }
   ],
   "source": [
    "# 같은인덱스번호가 있을경우 오류\n",
    "# pd.concat([x, y, z], verify_integrity=True)\n",
    "# 합치면서 인덱스 번호를 다시정리\n",
    "pd.concat([x, y, z], ignore_index=True)\n",
    "# 축변경\n",
    "pd.concat([x, y, z], ignore_index=True, axis=1)\n",
    "x = pd.Series([1, 2, 3, 4])\n",
    "y = pd.Series([4, 5, 6])\n",
    "z = pd.Series([7, 8, 9])\n",
    "# 개수가 맞지 않을경우 교집합\n",
    "pd.concat([x, y, z], ignore_index=True, axis=1, join='inner')"
   ]
  },
  {
   "cell_type": "code",
   "execution_count": 19,
   "id": "1a22017f",
   "metadata": {},
   "outputs": [
    {
     "data": {
      "text/html": [
       "<div>\n",
       "<style scoped>\n",
       "    .dataframe tbody tr th:only-of-type {\n",
       "        vertical-align: middle;\n",
       "    }\n",
       "\n",
       "    .dataframe tbody tr th {\n",
       "        vertical-align: top;\n",
       "    }\n",
       "\n",
       "    .dataframe thead th {\n",
       "        text-align: right;\n",
       "    }\n",
       "</style>\n",
       "<table border=\"1\" class=\"dataframe\">\n",
       "  <thead>\n",
       "    <tr style=\"text-align: right;\">\n",
       "      <th></th>\n",
       "      <th>0</th>\n",
       "      <th>1</th>\n",
       "      <th>2</th>\n",
       "    </tr>\n",
       "  </thead>\n",
       "  <tbody>\n",
       "    <tr>\n",
       "      <th>0</th>\n",
       "      <td>1</td>\n",
       "      <td>4.0</td>\n",
       "      <td>7.0</td>\n",
       "    </tr>\n",
       "    <tr>\n",
       "      <th>1</th>\n",
       "      <td>2</td>\n",
       "      <td>5.0</td>\n",
       "      <td>8.0</td>\n",
       "    </tr>\n",
       "    <tr>\n",
       "      <th>2</th>\n",
       "      <td>3</td>\n",
       "      <td>6.0</td>\n",
       "      <td>9.0</td>\n",
       "    </tr>\n",
       "    <tr>\n",
       "      <th>3</th>\n",
       "      <td>4</td>\n",
       "      <td>NaN</td>\n",
       "      <td>NaN</td>\n",
       "    </tr>\n",
       "  </tbody>\n",
       "</table>\n",
       "</div>"
      ],
      "text/plain": [
       "   0    1    2\n",
       "0  1  4.0  7.0\n",
       "1  2  5.0  8.0\n",
       "2  3  6.0  9.0\n",
       "3  4  NaN  NaN"
      ]
     },
     "execution_count": 19,
     "metadata": {},
     "output_type": "execute_result"
    }
   ],
   "source": [
    "# 개수가 맞지 않을경우 합집합\n",
    "pd.concat([x, y, z], ignore_index=True, axis=1, join='outer')"
   ]
  },
  {
   "cell_type": "code",
   "execution_count": 20,
   "id": "e6ac33b5",
   "metadata": {},
   "outputs": [],
   "source": [
    "x = pd.Series([1, 2, 3, 4, 5])\n",
    "y = pd.Series([6, 7, 8, 9, 0])"
   ]
  },
  {
   "cell_type": "code",
   "execution_count": 21,
   "id": "8b0e5237",
   "metadata": {},
   "outputs": [
    {
     "name": "stdout",
     "output_type": "stream",
     "text": [
      "0    11\n",
      "1    12\n",
      "2    13\n",
      "3    14\n",
      "4    15\n",
      "dtype: int64\n",
      "0     7\n",
      "1     9\n",
      "2    11\n",
      "3    13\n",
      "4     5\n",
      "dtype: int64\n",
      "0   -5\n",
      "1   -5\n",
      "2   -5\n",
      "3   -5\n",
      "4    5\n",
      "dtype: int64\n",
      "0     6\n",
      "1    14\n",
      "2    24\n",
      "3    36\n",
      "4     0\n",
      "dtype: int64\n",
      "0    0\n",
      "1    1\n",
      "2    1\n",
      "3    2\n",
      "4    2\n",
      "dtype: int64\n",
      "0    0.5\n",
      "1    1.0\n",
      "2    1.5\n",
      "3    2.0\n",
      "4    2.5\n",
      "dtype: float64\n",
      "0    1\n",
      "1    0\n",
      "2    1\n",
      "3    0\n",
      "4    1\n",
      "dtype: int64\n",
      "0     1\n",
      "1     4\n",
      "2     9\n",
      "3    16\n",
      "4    25\n",
      "dtype: int64\n"
     ]
    }
   ],
   "source": [
    "# 더하기\n",
    "print(x.add(10))\n",
    "print(x.add(y))\n",
    "# 빼기\n",
    "print(x.sub(y))\n",
    "# 곱하기\n",
    "print(x.mul(y))\n",
    "# 나누기\n",
    "print(x.floordiv(2))\n",
    "print(x.div(2))\n",
    "print(x.mod(2))\n",
    "# 제곱\n",
    "print(x.pow(2))"
   ]
  },
  {
   "cell_type": "code",
   "execution_count": 22,
   "id": "c6a3d7be",
   "metadata": {},
   "outputs": [
    {
     "data": {
      "text/plain": [
       "DatetimeIndex(['2019-01-01', '2019-01-02', '2019-01-03', '2019-01-04',\n",
       "               '2019-01-05', '2019-01-06', '2019-01-07'],\n",
       "              dtype='datetime64[ns]', freq='D')"
      ]
     },
     "execution_count": 22,
     "metadata": {},
     "output_type": "execute_result"
    }
   ],
   "source": [
    "# 날짜 자동 생성\n",
    "pd.date_range(start='2019-01-01', end='2019-01-07')"
   ]
  },
  {
   "cell_type": "code",
   "execution_count": 23,
   "id": "bccee594",
   "metadata": {},
   "outputs": [
    {
     "data": {
      "text/plain": [
       "DatetimeIndex(['2019-01-01', '2019-01-02', '2019-01-03', '2019-01-04',\n",
       "               '2019-01-05', '2019-01-06', '2019-01-07'],\n",
       "              dtype='datetime64[ns]', freq='D')"
      ]
     },
     "execution_count": 23,
     "metadata": {},
     "output_type": "execute_result"
    }
   ],
   "source": [
    "#기간 사용\n",
    "pd.date_range(start='2019-01-01', periods=7)"
   ]
  },
  {
   "cell_type": "code",
   "execution_count": 24,
   "id": "506103fb",
   "metadata": {},
   "outputs": [
    {
     "data": {
      "text/plain": [
       "DatetimeIndex(['2019-01-01', '2019-01-03', '2019-01-05', '2019-01-07',\n",
       "               '2019-01-09', '2019-01-11', '2019-01-13'],\n",
       "              dtype='datetime64[ns]', freq='2D')"
      ]
     },
     "execution_count": 24,
     "metadata": {},
     "output_type": "execute_result"
    }
   ],
   "source": [
    "#증감\n",
    "pd.date_range(start='2019-01-01', periods=7, freq='2D')"
   ]
  },
  {
   "cell_type": "code",
   "execution_count": 25,
   "id": "009f63c8",
   "metadata": {},
   "outputs": [
    {
     "data": {
      "text/plain": [
       "DatetimeIndex(['2019-01-06', '2019-01-13', '2019-01-20', '2019-01-27',\n",
       "               '2019-02-03', '2019-02-10', '2019-02-17'],\n",
       "              dtype='datetime64[ns]', freq='W-SUN')"
      ]
     },
     "execution_count": 25,
     "metadata": {},
     "output_type": "execute_result"
    }
   ],
   "source": [
    "pd.date_range(start='2019-01-01', periods=7, freq='W')"
   ]
  },
  {
   "cell_type": "code",
   "execution_count": 26,
   "id": "cf0a2dd9",
   "metadata": {},
   "outputs": [
    {
     "data": {
      "text/plain": [
       "Int64Index([2020, 2021], dtype='int64')"
      ]
     },
     "execution_count": 26,
     "metadata": {},
     "output_type": "execute_result"
    }
   ],
   "source": [
    "#날짜형\n",
    "x = pd.to_datetime(['2020-01-02 03:45', '2021-12-24 23:59'])\n",
    "x.year"
   ]
  },
  {
   "cell_type": "code",
   "execution_count": 27,
   "id": "84230a2d",
   "metadata": {},
   "outputs": [
    {
     "data": {
      "text/plain": [
       "Int64Index([3, 4], dtype='int64')"
      ]
     },
     "execution_count": 27,
     "metadata": {},
     "output_type": "execute_result"
    }
   ],
   "source": [
    "x.weekday"
   ]
  },
  {
   "cell_type": "code",
   "execution_count": 28,
   "id": "0b8d9c7a",
   "metadata": {},
   "outputs": [
    {
     "data": {
      "text/plain": [
       "TimedeltaIndex(['-42 days +12:06:00', '681 days 08:20:00'], dtype='timedelta64[ns]', freq=None)"
      ]
     },
     "execution_count": 28,
     "metadata": {},
     "output_type": "execute_result"
    }
   ],
   "source": [
    "diff = x - pd.to_datetime('2020-02-12 15:39')\n",
    "diff"
   ]
  },
  {
   "cell_type": "markdown",
   "id": "f5029b49",
   "metadata": {},
   "source": [
    "## 실습 01"
   ]
  },
  {
   "cell_type": "code",
   "execution_count": 29,
   "id": "68b0d0d4",
   "metadata": {},
   "outputs": [],
   "source": [
    "x = [np.nan, 1, 2, 3, 4, 5]\n",
    "x = pd.Series(x)\n",
    "y = pd.Series([x[np.random.randint(0, 6)] for i in range(20)])"
   ]
  },
  {
   "cell_type": "code",
   "execution_count": 30,
   "id": "4f33e85c",
   "metadata": {},
   "outputs": [
    {
     "name": "stdout",
     "output_type": "stream",
     "text": [
      "x 결측값의 개수:  1\n",
      "y 결측값의 개수:  4\n"
     ]
    }
   ],
   "source": [
    "# 1. 결측값의 개수 구하기\n",
    "print(\"x 결측값의 개수: \", x.isnull().sum())\n",
    "print(\"y 결측값의 개수: \", y.isnull().sum())"
   ]
  },
  {
   "cell_type": "code",
   "execution_count": 31,
   "id": "8900c1f9",
   "metadata": {},
   "outputs": [
    {
     "name": "stdout",
     "output_type": "stream",
     "text": [
      "1    1.0\n",
      "2    2.0\n",
      "3    3.0\n",
      "4    4.0\n",
      "5    5.0\n",
      "dtype: float64\n",
      "2     2.0\n",
      "3     4.0\n",
      "4     4.0\n",
      "5     3.0\n",
      "6     4.0\n",
      "7     5.0\n",
      "8     1.0\n",
      "9     2.0\n",
      "10    3.0\n",
      "12    5.0\n",
      "13    4.0\n",
      "14    1.0\n",
      "15    4.0\n",
      "16    5.0\n",
      "17    3.0\n",
      "18    5.0\n",
      "dtype: float64\n"
     ]
    }
   ],
   "source": [
    "# 2. 결측값을 제거한 Series 만들기\n",
    "x.dropna(inplace=True)\n",
    "y.dropna(inplace=True)\n",
    "print(x)\n",
    "print(y)"
   ]
  },
  {
   "cell_type": "code",
   "execution_count": 32,
   "id": "6e59dc13",
   "metadata": {},
   "outputs": [
    {
     "name": "stdout",
     "output_type": "stream",
     "text": [
      "0    3.055556\n",
      "1    1.000000\n",
      "2    2.000000\n",
      "3    3.000000\n",
      "4    4.000000\n",
      "5    5.000000\n",
      "dtype: float64\n",
      "0     1.000000\n",
      "1     3.000000\n",
      "2     3.055556\n",
      "3     3.000000\n",
      "4     5.000000\n",
      "5     3.055556\n",
      "6     1.000000\n",
      "7     3.000000\n",
      "8     2.000000\n",
      "9     1.000000\n",
      "10    5.000000\n",
      "11    1.000000\n",
      "12    4.000000\n",
      "13    5.000000\n",
      "14    4.000000\n",
      "15    2.000000\n",
      "16    5.000000\n",
      "17    2.000000\n",
      "18    3.000000\n",
      "19    5.000000\n",
      "dtype: float64\n"
     ]
    }
   ],
   "source": [
    "# 3. 결측값에 y의 평균값을 넣은 Series 만들기\n",
    "x = [np.nan, 1, 2, 3, 4, 5]\n",
    "x = pd.Series(x)\n",
    "y = pd.Series([x[np.random.randint(0, 6)] for i in range(20)])\n",
    "x.fillna(y.mean(), inplace=True)\n",
    "y.fillna(y.mean(), inplace=True)\n",
    "print(x)\n",
    "print(y)"
   ]
  },
  {
   "cell_type": "code",
   "execution_count": 33,
   "id": "dbbad6b1",
   "metadata": {},
   "outputs": [
    {
     "data": {
      "text/html": [
       "<div>\n",
       "<style scoped>\n",
       "    .dataframe tbody tr th:only-of-type {\n",
       "        vertical-align: middle;\n",
       "    }\n",
       "\n",
       "    .dataframe tbody tr th {\n",
       "        vertical-align: top;\n",
       "    }\n",
       "\n",
       "    .dataframe thead th {\n",
       "        text-align: right;\n",
       "    }\n",
       "</style>\n",
       "<table border=\"1\" class=\"dataframe\">\n",
       "  <thead>\n",
       "    <tr style=\"text-align: right;\">\n",
       "      <th></th>\n",
       "      <th>연도</th>\n",
       "      <th>판매량</th>\n",
       "      <th>매출</th>\n",
       "      <th>순이익</th>\n",
       "    </tr>\n",
       "  </thead>\n",
       "  <tbody>\n",
       "    <tr>\n",
       "      <th>0</th>\n",
       "      <td>2015</td>\n",
       "      <td>103</td>\n",
       "      <td>500000</td>\n",
       "      <td>370000</td>\n",
       "    </tr>\n",
       "    <tr>\n",
       "      <th>1</th>\n",
       "      <td>2016</td>\n",
       "      <td>70</td>\n",
       "      <td>300000</td>\n",
       "      <td>190000</td>\n",
       "    </tr>\n",
       "    <tr>\n",
       "      <th>2</th>\n",
       "      <td>2017</td>\n",
       "      <td>130</td>\n",
       "      <td>400000</td>\n",
       "      <td>300000</td>\n",
       "    </tr>\n",
       "    <tr>\n",
       "      <th>3</th>\n",
       "      <td>2018</td>\n",
       "      <td>160</td>\n",
       "      <td>550000</td>\n",
       "      <td>480000</td>\n",
       "    </tr>\n",
       "    <tr>\n",
       "      <th>4</th>\n",
       "      <td>2019</td>\n",
       "      <td>190</td>\n",
       "      <td>700000</td>\n",
       "      <td>600000</td>\n",
       "    </tr>\n",
       "    <tr>\n",
       "      <th>5</th>\n",
       "      <td>2020</td>\n",
       "      <td>230</td>\n",
       "      <td>680000</td>\n",
       "      <td>590000</td>\n",
       "    </tr>\n",
       "  </tbody>\n",
       "</table>\n",
       "</div>"
      ],
      "text/plain": [
       "     연도  판매량      매출     순이익\n",
       "0  2015  103  500000  370000\n",
       "1  2016   70  300000  190000\n",
       "2  2017  130  400000  300000\n",
       "3  2018  160  550000  480000\n",
       "4  2019  190  700000  600000\n",
       "5  2020  230  680000  590000"
      ]
     },
     "execution_count": 33,
     "metadata": {},
     "output_type": "execute_result"
    }
   ],
   "source": [
    "sales_data = {\n",
    "'연도':[2015, 2016, 2017, 2018, 2019, 2020],\n",
    "'판매량':[103, 70, 130, 160, 190, 230],\n",
    "'매출':[500000, 300000, 400000, 550000, 700000, 680000],\n",
    "'순이익':[370000, 190000, 300000, 480000, 600000, 590000]\n",
    "}\n",
    "df = pd.DataFrame(sales_data)\n",
    "df"
   ]
  },
  {
   "cell_type": "code",
   "execution_count": 34,
   "id": "08915053",
   "metadata": {},
   "outputs": [
    {
     "data": {
      "text/plain": [
       "0    103\n",
       "1     70\n",
       "2    130\n",
       "3    160\n",
       "4    190\n",
       "5    230\n",
       "Name: 판매량, dtype: int64"
      ]
     },
     "execution_count": 34,
     "metadata": {},
     "output_type": "execute_result"
    }
   ],
   "source": [
    "df['판매량']"
   ]
  },
  {
   "cell_type": "code",
   "execution_count": 35,
   "id": "b0908c1e",
   "metadata": {},
   "outputs": [
    {
     "data": {
      "text/html": [
       "<div>\n",
       "<style scoped>\n",
       "    .dataframe tbody tr th:only-of-type {\n",
       "        vertical-align: middle;\n",
       "    }\n",
       "\n",
       "    .dataframe tbody tr th {\n",
       "        vertical-align: top;\n",
       "    }\n",
       "\n",
       "    .dataframe thead th {\n",
       "        text-align: right;\n",
       "    }\n",
       "</style>\n",
       "<table border=\"1\" class=\"dataframe\">\n",
       "  <thead>\n",
       "    <tr style=\"text-align: right;\">\n",
       "      <th></th>\n",
       "      <th>판매량</th>\n",
       "      <th>매출</th>\n",
       "    </tr>\n",
       "  </thead>\n",
       "  <tbody>\n",
       "    <tr>\n",
       "      <th>0</th>\n",
       "      <td>103</td>\n",
       "      <td>500000</td>\n",
       "    </tr>\n",
       "    <tr>\n",
       "      <th>1</th>\n",
       "      <td>70</td>\n",
       "      <td>300000</td>\n",
       "    </tr>\n",
       "    <tr>\n",
       "      <th>2</th>\n",
       "      <td>130</td>\n",
       "      <td>400000</td>\n",
       "    </tr>\n",
       "    <tr>\n",
       "      <th>3</th>\n",
       "      <td>160</td>\n",
       "      <td>550000</td>\n",
       "    </tr>\n",
       "    <tr>\n",
       "      <th>4</th>\n",
       "      <td>190</td>\n",
       "      <td>700000</td>\n",
       "    </tr>\n",
       "    <tr>\n",
       "      <th>5</th>\n",
       "      <td>230</td>\n",
       "      <td>680000</td>\n",
       "    </tr>\n",
       "  </tbody>\n",
       "</table>\n",
       "</div>"
      ],
      "text/plain": [
       "   판매량      매출\n",
       "0  103  500000\n",
       "1   70  300000\n",
       "2  130  400000\n",
       "3  160  550000\n",
       "4  190  700000\n",
       "5  230  680000"
      ]
     },
     "execution_count": 35,
     "metadata": {},
     "output_type": "execute_result"
    }
   ],
   "source": [
    "df[['판매량', '매출']]"
   ]
  },
  {
   "cell_type": "code",
   "execution_count": 36,
   "id": "610343a8",
   "metadata": {},
   "outputs": [
    {
     "data": {
      "text/html": [
       "<div>\n",
       "<style scoped>\n",
       "    .dataframe tbody tr th:only-of-type {\n",
       "        vertical-align: middle;\n",
       "    }\n",
       "\n",
       "    .dataframe tbody tr th {\n",
       "        vertical-align: top;\n",
       "    }\n",
       "\n",
       "    .dataframe thead th {\n",
       "        text-align: right;\n",
       "    }\n",
       "</style>\n",
       "<table border=\"1\" class=\"dataframe\">\n",
       "  <thead>\n",
       "    <tr style=\"text-align: right;\">\n",
       "      <th></th>\n",
       "      <th>연도</th>\n",
       "      <th>판매량</th>\n",
       "      <th>매출</th>\n",
       "      <th>순이익</th>\n",
       "    </tr>\n",
       "  </thead>\n",
       "  <tbody>\n",
       "    <tr>\n",
       "      <th>2</th>\n",
       "      <td>2017</td>\n",
       "      <td>130</td>\n",
       "      <td>400000</td>\n",
       "      <td>300000</td>\n",
       "    </tr>\n",
       "  </tbody>\n",
       "</table>\n",
       "</div>"
      ],
      "text/plain": [
       "     연도  판매량      매출     순이익\n",
       "2  2017  130  400000  300000"
      ]
     },
     "execution_count": 36,
     "metadata": {},
     "output_type": "execute_result"
    }
   ],
   "source": [
    "df[2:3]"
   ]
  },
  {
   "cell_type": "code",
   "execution_count": 37,
   "id": "8e94183e",
   "metadata": {},
   "outputs": [
    {
     "data": {
      "text/plain": [
       "연도       2016\n",
       "판매량        70\n",
       "매출     300000\n",
       "순이익    190000\n",
       "Name: 1, dtype: int64"
      ]
     },
     "execution_count": 37,
     "metadata": {},
     "output_type": "execute_result"
    }
   ],
   "source": [
    "df.iloc[1]"
   ]
  },
  {
   "cell_type": "code",
   "execution_count": 38,
   "id": "92d80f4c",
   "metadata": {},
   "outputs": [
    {
     "data": {
      "text/html": [
       "<div>\n",
       "<style scoped>\n",
       "    .dataframe tbody tr th:only-of-type {\n",
       "        vertical-align: middle;\n",
       "    }\n",
       "\n",
       "    .dataframe tbody tr th {\n",
       "        vertical-align: top;\n",
       "    }\n",
       "\n",
       "    .dataframe thead th {\n",
       "        text-align: right;\n",
       "    }\n",
       "</style>\n",
       "<table border=\"1\" class=\"dataframe\">\n",
       "  <thead>\n",
       "    <tr style=\"text-align: right;\">\n",
       "      <th></th>\n",
       "      <th>연도</th>\n",
       "      <th>판매량</th>\n",
       "      <th>매출</th>\n",
       "      <th>순이익</th>\n",
       "    </tr>\n",
       "  </thead>\n",
       "  <tbody>\n",
       "    <tr>\n",
       "      <th>1</th>\n",
       "      <td>2016</td>\n",
       "      <td>70</td>\n",
       "      <td>300000</td>\n",
       "      <td>190000</td>\n",
       "    </tr>\n",
       "    <tr>\n",
       "      <th>3</th>\n",
       "      <td>2018</td>\n",
       "      <td>160</td>\n",
       "      <td>550000</td>\n",
       "      <td>480000</td>\n",
       "    </tr>\n",
       "  </tbody>\n",
       "</table>\n",
       "</div>"
      ],
      "text/plain": [
       "     연도  판매량      매출     순이익\n",
       "1  2016   70  300000  190000\n",
       "3  2018  160  550000  480000"
      ]
     },
     "execution_count": 38,
     "metadata": {},
     "output_type": "execute_result"
    }
   ],
   "source": [
    "df.iloc[[1, 3]]"
   ]
  },
  {
   "cell_type": "code",
   "execution_count": 39,
   "id": "2cb28791",
   "metadata": {},
   "outputs": [
    {
     "data": {
      "text/html": [
       "<div>\n",
       "<style scoped>\n",
       "    .dataframe tbody tr th:only-of-type {\n",
       "        vertical-align: middle;\n",
       "    }\n",
       "\n",
       "    .dataframe tbody tr th {\n",
       "        vertical-align: top;\n",
       "    }\n",
       "\n",
       "    .dataframe thead th {\n",
       "        text-align: right;\n",
       "    }\n",
       "</style>\n",
       "<table border=\"1\" class=\"dataframe\">\n",
       "  <thead>\n",
       "    <tr style=\"text-align: right;\">\n",
       "      <th></th>\n",
       "      <th>판매량</th>\n",
       "      <th>매출</th>\n",
       "      <th>순이익</th>\n",
       "    </tr>\n",
       "  </thead>\n",
       "  <tbody>\n",
       "    <tr>\n",
       "      <th>2015</th>\n",
       "      <td>103</td>\n",
       "      <td>500000</td>\n",
       "      <td>370000</td>\n",
       "    </tr>\n",
       "    <tr>\n",
       "      <th>2016</th>\n",
       "      <td>70</td>\n",
       "      <td>300000</td>\n",
       "      <td>190000</td>\n",
       "    </tr>\n",
       "    <tr>\n",
       "      <th>2017</th>\n",
       "      <td>130</td>\n",
       "      <td>400000</td>\n",
       "      <td>190000</td>\n",
       "    </tr>\n",
       "  </tbody>\n",
       "</table>\n",
       "</div>"
      ],
      "text/plain": [
       "      판매량      매출     순이익\n",
       "2015  103  500000  370000\n",
       "2016   70  300000  190000\n",
       "2017  130  400000  190000"
      ]
     },
     "execution_count": 39,
     "metadata": {},
     "output_type": "execute_result"
    }
   ],
   "source": [
    "a = pd.Series([103, 500000, 370000], ['판매량', '매출', '순이익'])\n",
    "b = pd.Series([70, 300000, 190000], ['판매량', '매출', '순이익'])\n",
    "c = pd.Series([130, 400000, 190000], ['판매량', '매출', '순이익'])\n",
    "df = pd.DataFrame([a, b, c], index=[2015, 2016, 2017])\n",
    "df"
   ]
  },
  {
   "cell_type": "code",
   "execution_count": 40,
   "id": "6fe8bbf3",
   "metadata": {},
   "outputs": [
    {
     "data": {
      "text/plain": [
       "판매량        70\n",
       "매출     300000\n",
       "순이익    190000\n",
       "Name: 2016, dtype: int64"
      ]
     },
     "execution_count": 40,
     "metadata": {},
     "output_type": "execute_result"
    }
   ],
   "source": [
    "df.iloc[1]"
   ]
  },
  {
   "cell_type": "code",
   "execution_count": 41,
   "id": "259b047a",
   "metadata": {},
   "outputs": [
    {
     "data": {
      "text/html": [
       "<div>\n",
       "<style scoped>\n",
       "    .dataframe tbody tr th:only-of-type {\n",
       "        vertical-align: middle;\n",
       "    }\n",
       "\n",
       "    .dataframe tbody tr th {\n",
       "        vertical-align: top;\n",
       "    }\n",
       "\n",
       "    .dataframe thead th {\n",
       "        text-align: right;\n",
       "    }\n",
       "</style>\n",
       "<table border=\"1\" class=\"dataframe\">\n",
       "  <thead>\n",
       "    <tr style=\"text-align: right;\">\n",
       "      <th></th>\n",
       "      <th>판매량</th>\n",
       "      <th>매출</th>\n",
       "      <th>순이익</th>\n",
       "    </tr>\n",
       "  </thead>\n",
       "  <tbody>\n",
       "    <tr>\n",
       "      <th>2015</th>\n",
       "      <td>103</td>\n",
       "      <td>500000</td>\n",
       "      <td>370000</td>\n",
       "    </tr>\n",
       "    <tr>\n",
       "      <th>2017</th>\n",
       "      <td>130</td>\n",
       "      <td>400000</td>\n",
       "      <td>190000</td>\n",
       "    </tr>\n",
       "  </tbody>\n",
       "</table>\n",
       "</div>"
      ],
      "text/plain": [
       "      판매량      매출     순이익\n",
       "2015  103  500000  370000\n",
       "2017  130  400000  190000"
      ]
     },
     "execution_count": 41,
     "metadata": {},
     "output_type": "execute_result"
    }
   ],
   "source": [
    "df.iloc[[0, 2]]"
   ]
  },
  {
   "cell_type": "code",
   "execution_count": 42,
   "id": "6f44eb88",
   "metadata": {},
   "outputs": [
    {
     "data": {
      "text/plain": [
       "판매량       103\n",
       "매출     500000\n",
       "순이익    370000\n",
       "Name: 2015, dtype: int64"
      ]
     },
     "execution_count": 42,
     "metadata": {},
     "output_type": "execute_result"
    }
   ],
   "source": [
    "df.loc[2015]"
   ]
  },
  {
   "cell_type": "code",
   "execution_count": 43,
   "id": "e9bcd81d",
   "metadata": {},
   "outputs": [
    {
     "data": {
      "text/html": [
       "<div>\n",
       "<style scoped>\n",
       "    .dataframe tbody tr th:only-of-type {\n",
       "        vertical-align: middle;\n",
       "    }\n",
       "\n",
       "    .dataframe tbody tr th {\n",
       "        vertical-align: top;\n",
       "    }\n",
       "\n",
       "    .dataframe thead th {\n",
       "        text-align: right;\n",
       "    }\n",
       "</style>\n",
       "<table border=\"1\" class=\"dataframe\">\n",
       "  <thead>\n",
       "    <tr style=\"text-align: right;\">\n",
       "      <th></th>\n",
       "      <th>판매량</th>\n",
       "      <th>매출</th>\n",
       "      <th>순이익</th>\n",
       "    </tr>\n",
       "  </thead>\n",
       "  <tbody>\n",
       "    <tr>\n",
       "      <th>2015</th>\n",
       "      <td>103</td>\n",
       "      <td>500000</td>\n",
       "      <td>370000</td>\n",
       "    </tr>\n",
       "    <tr>\n",
       "      <th>2017</th>\n",
       "      <td>130</td>\n",
       "      <td>400000</td>\n",
       "      <td>190000</td>\n",
       "    </tr>\n",
       "  </tbody>\n",
       "</table>\n",
       "</div>"
      ],
      "text/plain": [
       "      판매량      매출     순이익\n",
       "2015  103  500000  370000\n",
       "2017  130  400000  190000"
      ]
     },
     "execution_count": 43,
     "metadata": {},
     "output_type": "execute_result"
    }
   ],
   "source": [
    "df.loc[[2015, 2017]]"
   ]
  },
  {
   "cell_type": "code",
   "execution_count": 44,
   "id": "8e839e4d",
   "metadata": {},
   "outputs": [
    {
     "data": {
      "text/html": [
       "<div>\n",
       "<style scoped>\n",
       "    .dataframe tbody tr th:only-of-type {\n",
       "        vertical-align: middle;\n",
       "    }\n",
       "\n",
       "    .dataframe tbody tr th {\n",
       "        vertical-align: top;\n",
       "    }\n",
       "\n",
       "    .dataframe thead th {\n",
       "        text-align: right;\n",
       "    }\n",
       "</style>\n",
       "<table border=\"1\" class=\"dataframe\">\n",
       "  <thead>\n",
       "    <tr style=\"text-align: right;\">\n",
       "      <th></th>\n",
       "      <th>판매량</th>\n",
       "      <th>매출</th>\n",
       "      <th>순이익</th>\n",
       "    </tr>\n",
       "  </thead>\n",
       "  <tbody>\n",
       "    <tr>\n",
       "      <th>2015</th>\n",
       "      <td>103</td>\n",
       "      <td>500000</td>\n",
       "      <td>370000</td>\n",
       "    </tr>\n",
       "    <tr>\n",
       "      <th>2016</th>\n",
       "      <td>70</td>\n",
       "      <td>300000</td>\n",
       "      <td>190000</td>\n",
       "    </tr>\n",
       "    <tr>\n",
       "      <th>2017</th>\n",
       "      <td>130</td>\n",
       "      <td>400000</td>\n",
       "      <td>300000</td>\n",
       "    </tr>\n",
       "    <tr>\n",
       "      <th>2018</th>\n",
       "      <td>160</td>\n",
       "      <td>550000</td>\n",
       "      <td>480000</td>\n",
       "    </tr>\n",
       "    <tr>\n",
       "      <th>2019</th>\n",
       "      <td>190</td>\n",
       "      <td>700000</td>\n",
       "      <td>600000</td>\n",
       "    </tr>\n",
       "    <tr>\n",
       "      <th>2020</th>\n",
       "      <td>230</td>\n",
       "      <td>680000</td>\n",
       "      <td>590000</td>\n",
       "    </tr>\n",
       "  </tbody>\n",
       "</table>\n",
       "</div>"
      ],
      "text/plain": [
       "      판매량      매출     순이익\n",
       "2015  103  500000  370000\n",
       "2016   70  300000  190000\n",
       "2017  130  400000  300000\n",
       "2018  160  550000  480000\n",
       "2019  190  700000  600000\n",
       "2020  230  680000  590000"
      ]
     },
     "execution_count": 44,
     "metadata": {},
     "output_type": "execute_result"
    }
   ],
   "source": [
    "sales_data = {\n",
    "'연도':[2015, 2016, 2017, 2018, 2019, 2020],\n",
    "'판매량':[103, 70, 130, 160, 190, 230],\n",
    "'매출':[500000, 300000, 400000, 550000, 700000, 680000],\n",
    "'순이익':[370000, 190000, 300000, 480000, 600000, 590000]\n",
    "}\n",
    "sales_data = pd.DataFrame(sales_data, columns=['판매량','매출','순이익'], index=sales_data['연도'])\n",
    "sales_data"
   ]
  },
  {
   "cell_type": "code",
   "execution_count": 45,
   "id": "d7362459",
   "metadata": {},
   "outputs": [
    {
     "data": {
      "text/plain": [
       "판매량       103\n",
       "매출     500000\n",
       "순이익    370000\n",
       "Name: 2015, dtype: int64"
      ]
     },
     "execution_count": 45,
     "metadata": {},
     "output_type": "execute_result"
    }
   ],
   "source": [
    "df.loc[2015]"
   ]
  },
  {
   "cell_type": "code",
   "execution_count": 46,
   "id": "0484fbea",
   "metadata": {},
   "outputs": [
    {
     "data": {
      "text/html": [
       "<div>\n",
       "<style scoped>\n",
       "    .dataframe tbody tr th:only-of-type {\n",
       "        vertical-align: middle;\n",
       "    }\n",
       "\n",
       "    .dataframe tbody tr th {\n",
       "        vertical-align: top;\n",
       "    }\n",
       "\n",
       "    .dataframe thead th {\n",
       "        text-align: right;\n",
       "    }\n",
       "</style>\n",
       "<table border=\"1\" class=\"dataframe\">\n",
       "  <thead>\n",
       "    <tr style=\"text-align: right;\">\n",
       "      <th></th>\n",
       "      <th>판매량</th>\n",
       "      <th>매출</th>\n",
       "      <th>순이익</th>\n",
       "    </tr>\n",
       "  </thead>\n",
       "  <tbody>\n",
       "    <tr>\n",
       "      <th>2015</th>\n",
       "      <td>103</td>\n",
       "      <td>500000</td>\n",
       "      <td>370000</td>\n",
       "    </tr>\n",
       "    <tr>\n",
       "      <th>2017</th>\n",
       "      <td>130</td>\n",
       "      <td>400000</td>\n",
       "      <td>190000</td>\n",
       "    </tr>\n",
       "  </tbody>\n",
       "</table>\n",
       "</div>"
      ],
      "text/plain": [
       "      판매량      매출     순이익\n",
       "2015  103  500000  370000\n",
       "2017  130  400000  190000"
      ]
     },
     "execution_count": 46,
     "metadata": {},
     "output_type": "execute_result"
    }
   ],
   "source": [
    "df.loc[[2015, 2017]]"
   ]
  },
  {
   "cell_type": "code",
   "execution_count": 47,
   "id": "2ed9bc41",
   "metadata": {},
   "outputs": [
    {
     "data": {
      "text/html": [
       "<div>\n",
       "<style scoped>\n",
       "    .dataframe tbody tr th:only-of-type {\n",
       "        vertical-align: middle;\n",
       "    }\n",
       "\n",
       "    .dataframe tbody tr th {\n",
       "        vertical-align: top;\n",
       "    }\n",
       "\n",
       "    .dataframe thead th {\n",
       "        text-align: right;\n",
       "    }\n",
       "</style>\n",
       "<table border=\"1\" class=\"dataframe\">\n",
       "  <thead>\n",
       "    <tr style=\"text-align: right;\">\n",
       "      <th></th>\n",
       "      <th>판매량</th>\n",
       "      <th>매출</th>\n",
       "      <th>순이익</th>\n",
       "    </tr>\n",
       "    <tr>\n",
       "      <th>연도</th>\n",
       "      <th></th>\n",
       "      <th></th>\n",
       "      <th></th>\n",
       "    </tr>\n",
       "  </thead>\n",
       "  <tbody>\n",
       "    <tr>\n",
       "      <th>2015</th>\n",
       "      <td>103</td>\n",
       "      <td>500000</td>\n",
       "      <td>370000</td>\n",
       "    </tr>\n",
       "    <tr>\n",
       "      <th>2016</th>\n",
       "      <td>70</td>\n",
       "      <td>300000</td>\n",
       "      <td>190000</td>\n",
       "    </tr>\n",
       "    <tr>\n",
       "      <th>2017</th>\n",
       "      <td>130</td>\n",
       "      <td>400000</td>\n",
       "      <td>300000</td>\n",
       "    </tr>\n",
       "    <tr>\n",
       "      <th>2018</th>\n",
       "      <td>60</td>\n",
       "      <td>550000</td>\n",
       "      <td>480000</td>\n",
       "    </tr>\n",
       "    <tr>\n",
       "      <th>2019</th>\n",
       "      <td>190</td>\n",
       "      <td>700000</td>\n",
       "      <td>600000</td>\n",
       "    </tr>\n",
       "    <tr>\n",
       "      <th>2020</th>\n",
       "      <td>230</td>\n",
       "      <td>680000</td>\n",
       "      <td>590000</td>\n",
       "    </tr>\n",
       "  </tbody>\n",
       "</table>\n",
       "</div>"
      ],
      "text/plain": [
       "      판매량      매출     순이익\n",
       "연도                       \n",
       "2015  103  500000  370000\n",
       "2016   70  300000  190000\n",
       "2017  130  400000  300000\n",
       "2018   60  550000  480000\n",
       "2019  190  700000  600000\n",
       "2020  230  680000  590000"
      ]
     },
     "execution_count": 47,
     "metadata": {},
     "output_type": "execute_result"
    }
   ],
   "source": [
    "# 파일읽기\n",
    "sales_data = pd.read_csv('sales_data.csv', index_col='연도', header=0, sep=',')\n",
    "sales_data"
   ]
  },
  {
   "cell_type": "code",
   "execution_count": 48,
   "id": "b1199c86",
   "metadata": {},
   "outputs": [],
   "source": [
    "# 데이터 추가\n",
    "sales_data = {\n",
    "'연도':[2015, 2016, 2017, 2018, 2019, 2020],\n",
    "'판매량':[103, 70, 130, 160, 190, 230],\n",
    "'매출':[500000, 300000, 400000, 550000, 700000, 680000],\n",
    "'순이익':[370000, 190000, 300000, 480000, 600000, 590000]\n",
    "}\n",
    "sales_data = pd.DataFrame(sales_data)\n",
    "sales_data['순이익율'] = (sales_data['순이익']/sales_data['매출']) * 100"
   ]
  },
  {
   "cell_type": "code",
   "execution_count": 49,
   "id": "650b8281",
   "metadata": {},
   "outputs": [
    {
     "data": {
      "text/html": [
       "<div>\n",
       "<style scoped>\n",
       "    .dataframe tbody tr th:only-of-type {\n",
       "        vertical-align: middle;\n",
       "    }\n",
       "\n",
       "    .dataframe tbody tr th {\n",
       "        vertical-align: top;\n",
       "    }\n",
       "\n",
       "    .dataframe thead th {\n",
       "        text-align: right;\n",
       "    }\n",
       "</style>\n",
       "<table border=\"1\" class=\"dataframe\">\n",
       "  <thead>\n",
       "    <tr style=\"text-align: right;\">\n",
       "      <th></th>\n",
       "      <th>연도</th>\n",
       "      <th>판매량</th>\n",
       "      <th>매출</th>\n",
       "      <th>순이익</th>\n",
       "      <th>순이익율</th>\n",
       "      <th>순이익율_비교</th>\n",
       "    </tr>\n",
       "  </thead>\n",
       "  <tbody>\n",
       "    <tr>\n",
       "      <th>0</th>\n",
       "      <td>2015</td>\n",
       "      <td>103</td>\n",
       "      <td>500000</td>\n",
       "      <td>370000</td>\n",
       "      <td>74.000000</td>\n",
       "      <td>낮음</td>\n",
       "    </tr>\n",
       "    <tr>\n",
       "      <th>1</th>\n",
       "      <td>2016</td>\n",
       "      <td>70</td>\n",
       "      <td>300000</td>\n",
       "      <td>190000</td>\n",
       "      <td>63.333333</td>\n",
       "      <td>낮음</td>\n",
       "    </tr>\n",
       "    <tr>\n",
       "      <th>2</th>\n",
       "      <td>2017</td>\n",
       "      <td>130</td>\n",
       "      <td>400000</td>\n",
       "      <td>300000</td>\n",
       "      <td>75.000000</td>\n",
       "      <td>낮음</td>\n",
       "    </tr>\n",
       "    <tr>\n",
       "      <th>3</th>\n",
       "      <td>2018</td>\n",
       "      <td>160</td>\n",
       "      <td>550000</td>\n",
       "      <td>480000</td>\n",
       "      <td>87.272727</td>\n",
       "      <td>높음</td>\n",
       "    </tr>\n",
       "    <tr>\n",
       "      <th>4</th>\n",
       "      <td>2019</td>\n",
       "      <td>190</td>\n",
       "      <td>700000</td>\n",
       "      <td>600000</td>\n",
       "      <td>85.714286</td>\n",
       "      <td>높음</td>\n",
       "    </tr>\n",
       "    <tr>\n",
       "      <th>5</th>\n",
       "      <td>2020</td>\n",
       "      <td>230</td>\n",
       "      <td>680000</td>\n",
       "      <td>590000</td>\n",
       "      <td>86.764706</td>\n",
       "      <td>높음</td>\n",
       "    </tr>\n",
       "  </tbody>\n",
       "</table>\n",
       "</div>"
      ],
      "text/plain": [
       "     연도  판매량      매출     순이익       순이익율 순이익율_비교\n",
       "0  2015  103  500000  370000  74.000000      낮음\n",
       "1  2016   70  300000  190000  63.333333      낮음\n",
       "2  2017  130  400000  300000  75.000000      낮음\n",
       "3  2018  160  550000  480000  87.272727      높음\n",
       "4  2019  190  700000  600000  85.714286      높음\n",
       "5  2020  230  680000  590000  86.764706      높음"
      ]
     },
     "execution_count": 49,
     "metadata": {},
     "output_type": "execute_result"
    }
   ],
   "source": [
    "def check(n):\n",
    "    if n > 80:\n",
    "        return '높음'\n",
    "    else:\n",
    "        return '낮음'\n",
    "sales_data['순이익율_비교'] = sales_data['순이익율'].apply(check)\n",
    "sales_data"
   ]
  },
  {
   "cell_type": "code",
   "execution_count": 50,
   "id": "18e79a47",
   "metadata": {},
   "outputs": [
    {
     "data": {
      "text/html": [
       "<div>\n",
       "<style scoped>\n",
       "    .dataframe tbody tr th:only-of-type {\n",
       "        vertical-align: middle;\n",
       "    }\n",
       "\n",
       "    .dataframe tbody tr th {\n",
       "        vertical-align: top;\n",
       "    }\n",
       "\n",
       "    .dataframe thead th {\n",
       "        text-align: right;\n",
       "    }\n",
       "</style>\n",
       "<table border=\"1\" class=\"dataframe\">\n",
       "  <thead>\n",
       "    <tr style=\"text-align: right;\">\n",
       "      <th></th>\n",
       "      <th>연도</th>\n",
       "      <th>판매량</th>\n",
       "      <th>매출</th>\n",
       "      <th>순이익</th>\n",
       "      <th>순이익율</th>\n",
       "      <th>순이익율_비교</th>\n",
       "    </tr>\n",
       "  </thead>\n",
       "  <tbody>\n",
       "    <tr>\n",
       "      <th>0</th>\n",
       "      <td>2015</td>\n",
       "      <td>103</td>\n",
       "      <td>500000</td>\n",
       "      <td>370000</td>\n",
       "      <td>74.000000</td>\n",
       "      <td>낮음</td>\n",
       "    </tr>\n",
       "    <tr>\n",
       "      <th>2</th>\n",
       "      <td>2017</td>\n",
       "      <td>130</td>\n",
       "      <td>400000</td>\n",
       "      <td>300000</td>\n",
       "      <td>75.000000</td>\n",
       "      <td>낮음</td>\n",
       "    </tr>\n",
       "    <tr>\n",
       "      <th>3</th>\n",
       "      <td>2018</td>\n",
       "      <td>160</td>\n",
       "      <td>550000</td>\n",
       "      <td>480000</td>\n",
       "      <td>87.272727</td>\n",
       "      <td>높음</td>\n",
       "    </tr>\n",
       "    <tr>\n",
       "      <th>4</th>\n",
       "      <td>2019</td>\n",
       "      <td>190</td>\n",
       "      <td>700000</td>\n",
       "      <td>600000</td>\n",
       "      <td>85.714286</td>\n",
       "      <td>높음</td>\n",
       "    </tr>\n",
       "    <tr>\n",
       "      <th>5</th>\n",
       "      <td>2020</td>\n",
       "      <td>230</td>\n",
       "      <td>680000</td>\n",
       "      <td>590000</td>\n",
       "      <td>86.764706</td>\n",
       "      <td>높음</td>\n",
       "    </tr>\n",
       "  </tbody>\n",
       "</table>\n",
       "</div>"
      ],
      "text/plain": [
       "     연도  판매량      매출     순이익       순이익율 순이익율_비교\n",
       "0  2015  103  500000  370000  74.000000      낮음\n",
       "2  2017  130  400000  300000  75.000000      낮음\n",
       "3  2018  160  550000  480000  87.272727      높음\n",
       "4  2019  190  700000  600000  85.714286      높음\n",
       "5  2020  230  680000  590000  86.764706      높음"
      ]
     },
     "execution_count": 50,
     "metadata": {},
     "output_type": "execute_result"
    }
   ],
   "source": [
    "# 인덱스에 조건가능\n",
    "sales_data[sales_data['매출'] > 300000]"
   ]
  },
  {
   "cell_type": "code",
   "execution_count": 51,
   "id": "b51cc531",
   "metadata": {},
   "outputs": [
    {
     "data": {
      "text/html": [
       "<div>\n",
       "<style scoped>\n",
       "    .dataframe tbody tr th:only-of-type {\n",
       "        vertical-align: middle;\n",
       "    }\n",
       "\n",
       "    .dataframe tbody tr th {\n",
       "        vertical-align: top;\n",
       "    }\n",
       "\n",
       "    .dataframe thead th {\n",
       "        text-align: right;\n",
       "    }\n",
       "</style>\n",
       "<table border=\"1\" class=\"dataframe\">\n",
       "  <thead>\n",
       "    <tr style=\"text-align: right;\">\n",
       "      <th></th>\n",
       "      <th>연도</th>\n",
       "      <th>판매량</th>\n",
       "      <th>매출</th>\n",
       "      <th>순이익</th>\n",
       "      <th>순이익율</th>\n",
       "      <th>순이익율_비교</th>\n",
       "      <th>테스트1</th>\n",
       "    </tr>\n",
       "  </thead>\n",
       "  <tbody>\n",
       "    <tr>\n",
       "      <th>0</th>\n",
       "      <td>2015</td>\n",
       "      <td>103</td>\n",
       "      <td>500000</td>\n",
       "      <td>370000</td>\n",
       "      <td>74.000000</td>\n",
       "      <td>낮음</td>\n",
       "      <td>103</td>\n",
       "    </tr>\n",
       "    <tr>\n",
       "      <th>1</th>\n",
       "      <td>2016</td>\n",
       "      <td>70</td>\n",
       "      <td>300000</td>\n",
       "      <td>190000</td>\n",
       "      <td>63.333333</td>\n",
       "      <td>낮음</td>\n",
       "      <td>70</td>\n",
       "    </tr>\n",
       "    <tr>\n",
       "      <th>2</th>\n",
       "      <td>2017</td>\n",
       "      <td>130</td>\n",
       "      <td>400000</td>\n",
       "      <td>300000</td>\n",
       "      <td>75.000000</td>\n",
       "      <td>낮음</td>\n",
       "      <td>130</td>\n",
       "    </tr>\n",
       "    <tr>\n",
       "      <th>3</th>\n",
       "      <td>2018</td>\n",
       "      <td>160</td>\n",
       "      <td>550000</td>\n",
       "      <td>480000</td>\n",
       "      <td>87.272727</td>\n",
       "      <td>높음</td>\n",
       "      <td>160</td>\n",
       "    </tr>\n",
       "    <tr>\n",
       "      <th>4</th>\n",
       "      <td>2019</td>\n",
       "      <td>190</td>\n",
       "      <td>700000</td>\n",
       "      <td>600000</td>\n",
       "      <td>85.714286</td>\n",
       "      <td>높음</td>\n",
       "      <td>190</td>\n",
       "    </tr>\n",
       "    <tr>\n",
       "      <th>5</th>\n",
       "      <td>2020</td>\n",
       "      <td>230</td>\n",
       "      <td>680000</td>\n",
       "      <td>590000</td>\n",
       "      <td>86.764706</td>\n",
       "      <td>높음</td>\n",
       "      <td>0</td>\n",
       "    </tr>\n",
       "  </tbody>\n",
       "</table>\n",
       "</div>"
      ],
      "text/plain": [
       "     연도  판매량      매출     순이익       순이익율 순이익율_비교  테스트1\n",
       "0  2015  103  500000  370000  74.000000      낮음   103\n",
       "1  2016   70  300000  190000  63.333333      낮음    70\n",
       "2  2017  130  400000  300000  75.000000      낮음   130\n",
       "3  2018  160  550000  480000  87.272727      높음   160\n",
       "4  2019  190  700000  600000  85.714286      높음   190\n",
       "5  2020  230  680000  590000  86.764706      높음     0"
      ]
     },
     "execution_count": 51,
     "metadata": {},
     "output_type": "execute_result"
    }
   ],
   "source": [
    "# 해당 조건에 일치하는것만 데이터 변경 np.where(조건, True일경우, False일경우)\n",
    "sales_data['테스트1'] = np.where(sales_data['판매량'] > 200, 0, sales_data['판매량'])\n",
    "sales_data"
   ]
  },
  {
   "cell_type": "code",
   "execution_count": 52,
   "id": "ce4ea0a8",
   "metadata": {},
   "outputs": [
    {
     "data": {
      "text/html": [
       "<div>\n",
       "<style scoped>\n",
       "    .dataframe tbody tr th:only-of-type {\n",
       "        vertical-align: middle;\n",
       "    }\n",
       "\n",
       "    .dataframe tbody tr th {\n",
       "        vertical-align: top;\n",
       "    }\n",
       "\n",
       "    .dataframe thead th {\n",
       "        text-align: right;\n",
       "    }\n",
       "</style>\n",
       "<table border=\"1\" class=\"dataframe\">\n",
       "  <thead>\n",
       "    <tr style=\"text-align: right;\">\n",
       "      <th></th>\n",
       "      <th>연도</th>\n",
       "      <th>판매량</th>\n",
       "      <th>매출</th>\n",
       "      <th>순이익</th>\n",
       "      <th>순이익율</th>\n",
       "      <th>순이익율_비교</th>\n",
       "      <th>테스트1</th>\n",
       "      <th>테스트2</th>\n",
       "    </tr>\n",
       "  </thead>\n",
       "  <tbody>\n",
       "    <tr>\n",
       "      <th>0</th>\n",
       "      <td>2015</td>\n",
       "      <td>103</td>\n",
       "      <td>500000</td>\n",
       "      <td>370000</td>\n",
       "      <td>74.000000</td>\n",
       "      <td>낮음</td>\n",
       "      <td>103</td>\n",
       "      <td>NaN</td>\n",
       "    </tr>\n",
       "    <tr>\n",
       "      <th>1</th>\n",
       "      <td>2016</td>\n",
       "      <td>70</td>\n",
       "      <td>300000</td>\n",
       "      <td>190000</td>\n",
       "      <td>63.333333</td>\n",
       "      <td>낮음</td>\n",
       "      <td>70</td>\n",
       "      <td>120.0</td>\n",
       "    </tr>\n",
       "    <tr>\n",
       "      <th>2</th>\n",
       "      <td>2017</td>\n",
       "      <td>130</td>\n",
       "      <td>400000</td>\n",
       "      <td>300000</td>\n",
       "      <td>75.000000</td>\n",
       "      <td>낮음</td>\n",
       "      <td>130</td>\n",
       "      <td>NaN</td>\n",
       "    </tr>\n",
       "    <tr>\n",
       "      <th>3</th>\n",
       "      <td>2018</td>\n",
       "      <td>160</td>\n",
       "      <td>550000</td>\n",
       "      <td>480000</td>\n",
       "      <td>87.272727</td>\n",
       "      <td>높음</td>\n",
       "      <td>160</td>\n",
       "      <td>NaN</td>\n",
       "    </tr>\n",
       "    <tr>\n",
       "      <th>4</th>\n",
       "      <td>2019</td>\n",
       "      <td>190</td>\n",
       "      <td>700000</td>\n",
       "      <td>600000</td>\n",
       "      <td>85.714286</td>\n",
       "      <td>높음</td>\n",
       "      <td>190</td>\n",
       "      <td>NaN</td>\n",
       "    </tr>\n",
       "    <tr>\n",
       "      <th>5</th>\n",
       "      <td>2020</td>\n",
       "      <td>230</td>\n",
       "      <td>680000</td>\n",
       "      <td>590000</td>\n",
       "      <td>86.764706</td>\n",
       "      <td>높음</td>\n",
       "      <td>0</td>\n",
       "      <td>NaN</td>\n",
       "    </tr>\n",
       "  </tbody>\n",
       "</table>\n",
       "</div>"
      ],
      "text/plain": [
       "     연도  판매량      매출     순이익       순이익율 순이익율_비교  테스트1   테스트2\n",
       "0  2015  103  500000  370000  74.000000      낮음   103    NaN\n",
       "1  2016   70  300000  190000  63.333333      낮음    70  120.0\n",
       "2  2017  130  400000  300000  75.000000      낮음   130    NaN\n",
       "3  2018  160  550000  480000  87.272727      높음   160    NaN\n",
       "4  2019  190  700000  600000  85.714286      높음   190    NaN\n",
       "5  2020  230  680000  590000  86.764706      높음     0    NaN"
      ]
     },
     "execution_count": 52,
     "metadata": {},
     "output_type": "execute_result"
    }
   ],
   "source": [
    "# 해당 조건에 일치하는것만 바꾸고 나머지는 NaN\n",
    "sales_data['테스트2'] = sales_data[sales_data['판매량'] < 100]['판매량'] + 50\n",
    "sales_data"
   ]
  },
  {
   "cell_type": "code",
   "execution_count": 53,
   "id": "551018f7",
   "metadata": {},
   "outputs": [
    {
     "data": {
      "text/html": [
       "<div>\n",
       "<style scoped>\n",
       "    .dataframe tbody tr th:only-of-type {\n",
       "        vertical-align: middle;\n",
       "    }\n",
       "\n",
       "    .dataframe tbody tr th {\n",
       "        vertical-align: top;\n",
       "    }\n",
       "\n",
       "    .dataframe thead th {\n",
       "        text-align: right;\n",
       "    }\n",
       "</style>\n",
       "<table border=\"1\" class=\"dataframe\">\n",
       "  <thead>\n",
       "    <tr style=\"text-align: right;\">\n",
       "      <th></th>\n",
       "      <th>연도</th>\n",
       "      <th>판매량</th>\n",
       "      <th>매출</th>\n",
       "      <th>순이익</th>\n",
       "      <th>순이익율</th>\n",
       "    </tr>\n",
       "  </thead>\n",
       "  <tbody>\n",
       "    <tr>\n",
       "      <th>0</th>\n",
       "      <td>2015.0</td>\n",
       "      <td>103.0</td>\n",
       "      <td>500000.0</td>\n",
       "      <td>370000.0</td>\n",
       "      <td>74.000000</td>\n",
       "    </tr>\n",
       "    <tr>\n",
       "      <th>1</th>\n",
       "      <td>2016.0</td>\n",
       "      <td>70.0</td>\n",
       "      <td>300000.0</td>\n",
       "      <td>190000.0</td>\n",
       "      <td>63.333333</td>\n",
       "    </tr>\n",
       "    <tr>\n",
       "      <th>2</th>\n",
       "      <td>2017.0</td>\n",
       "      <td>130.0</td>\n",
       "      <td>400000.0</td>\n",
       "      <td>300000.0</td>\n",
       "      <td>75.000000</td>\n",
       "    </tr>\n",
       "    <tr>\n",
       "      <th>3</th>\n",
       "      <td>2018.0</td>\n",
       "      <td>160.0</td>\n",
       "      <td>550000.0</td>\n",
       "      <td>480000.0</td>\n",
       "      <td>87.272727</td>\n",
       "    </tr>\n",
       "    <tr>\n",
       "      <th>4</th>\n",
       "      <td>2019.0</td>\n",
       "      <td>190.0</td>\n",
       "      <td>700000.0</td>\n",
       "      <td>600000.0</td>\n",
       "      <td>85.714286</td>\n",
       "    </tr>\n",
       "    <tr>\n",
       "      <th>5</th>\n",
       "      <td>2020.0</td>\n",
       "      <td>230.0</td>\n",
       "      <td>680000.0</td>\n",
       "      <td>590000.0</td>\n",
       "      <td>86.764706</td>\n",
       "    </tr>\n",
       "    <tr>\n",
       "      <th>6</th>\n",
       "      <td>2021.0</td>\n",
       "      <td>720000.0</td>\n",
       "      <td>650000.0</td>\n",
       "      <td>360.0</td>\n",
       "      <td>0.000000</td>\n",
       "    </tr>\n",
       "    <tr>\n",
       "      <th>7</th>\n",
       "      <td>2120.0</td>\n",
       "      <td>330.0</td>\n",
       "      <td>680100.0</td>\n",
       "      <td>590100.0</td>\n",
       "      <td>186.764706</td>\n",
       "    </tr>\n",
       "  </tbody>\n",
       "</table>\n",
       "</div>"
      ],
      "text/plain": [
       "       연도       판매량        매출       순이익        순이익율\n",
       "0  2015.0     103.0  500000.0  370000.0   74.000000\n",
       "1  2016.0      70.0  300000.0  190000.0   63.333333\n",
       "2  2017.0     130.0  400000.0  300000.0   75.000000\n",
       "3  2018.0     160.0  550000.0  480000.0   87.272727\n",
       "4  2019.0     190.0  700000.0  600000.0   85.714286\n",
       "5  2020.0     230.0  680000.0  590000.0   86.764706\n",
       "6  2021.0  720000.0  650000.0     360.0    0.000000\n",
       "7  2120.0     330.0  680100.0  590100.0  186.764706"
      ]
     },
     "execution_count": 53,
     "metadata": {},
     "output_type": "execute_result"
    }
   ],
   "source": [
    "# 행추가\n",
    "sales_data = {\n",
    "'연도':[2015, 2016, 2017, 2018, 2019, 2020],\n",
    "'판매량':[103, 70, 130, 160, 190, 230],\n",
    "'매출':[500000, 300000, 400000, 550000, 700000, 680000],\n",
    "'순이익':[370000, 190000, 300000, 480000, 600000, 590000]\n",
    "}\n",
    "sales_data = pd.DataFrame(sales_data)\n",
    "sales_data['순이익율'] = (sales_data['순이익']/sales_data['매출']) * 100\n",
    "sales_data.loc[6] = [2021, 720000,650000, 360, 0]\n",
    "sales_data.loc[7] = sales_data.loc[5] + 100\n",
    "sales_data"
   ]
  },
  {
   "cell_type": "code",
   "execution_count": 54,
   "id": "c886548e",
   "metadata": {},
   "outputs": [
    {
     "name": "stderr",
     "output_type": "stream",
     "text": [
      "C:\\Users\\user\\AppData\\Local\\Temp\\ipykernel_8956\\2317382017.py:16: FutureWarning: The frame.append method is deprecated and will be removed from pandas in a future version. Use pandas.concat instead.\n",
      "  sales_df.append(sales_df2, ignore_index=True)\n"
     ]
    },
    {
     "data": {
      "text/html": [
       "<div>\n",
       "<style scoped>\n",
       "    .dataframe tbody tr th:only-of-type {\n",
       "        vertical-align: middle;\n",
       "    }\n",
       "\n",
       "    .dataframe tbody tr th {\n",
       "        vertical-align: top;\n",
       "    }\n",
       "\n",
       "    .dataframe thead th {\n",
       "        text-align: right;\n",
       "    }\n",
       "</style>\n",
       "<table border=\"1\" class=\"dataframe\">\n",
       "  <thead>\n",
       "    <tr style=\"text-align: right;\">\n",
       "      <th></th>\n",
       "      <th>연도</th>\n",
       "      <th>판매량</th>\n",
       "      <th>매출</th>\n",
       "      <th>순이익</th>\n",
       "    </tr>\n",
       "  </thead>\n",
       "  <tbody>\n",
       "    <tr>\n",
       "      <th>0</th>\n",
       "      <td>2015</td>\n",
       "      <td>103</td>\n",
       "      <td>500000</td>\n",
       "      <td>370000</td>\n",
       "    </tr>\n",
       "    <tr>\n",
       "      <th>1</th>\n",
       "      <td>2016</td>\n",
       "      <td>70</td>\n",
       "      <td>300000</td>\n",
       "      <td>190000</td>\n",
       "    </tr>\n",
       "    <tr>\n",
       "      <th>2</th>\n",
       "      <td>2017</td>\n",
       "      <td>130</td>\n",
       "      <td>400000</td>\n",
       "      <td>300000</td>\n",
       "    </tr>\n",
       "    <tr>\n",
       "      <th>3</th>\n",
       "      <td>2018</td>\n",
       "      <td>160</td>\n",
       "      <td>550000</td>\n",
       "      <td>480000</td>\n",
       "    </tr>\n",
       "    <tr>\n",
       "      <th>4</th>\n",
       "      <td>2019</td>\n",
       "      <td>190</td>\n",
       "      <td>700000</td>\n",
       "      <td>600000</td>\n",
       "    </tr>\n",
       "    <tr>\n",
       "      <th>5</th>\n",
       "      <td>2020</td>\n",
       "      <td>230</td>\n",
       "      <td>680000</td>\n",
       "      <td>590000</td>\n",
       "    </tr>\n",
       "  </tbody>\n",
       "</table>\n",
       "</div>"
      ],
      "text/plain": [
       "     연도  판매량      매출     순이익\n",
       "0  2015  103  500000  370000\n",
       "1  2016   70  300000  190000\n",
       "2  2017  130  400000  300000\n",
       "3  2018  160  550000  480000\n",
       "4  2019  190  700000  600000\n",
       "5  2020  230  680000  590000"
      ]
     },
     "execution_count": 54,
     "metadata": {},
     "output_type": "execute_result"
    }
   ],
   "source": [
    "sales_data1 = {\n",
    "'연도':[2015, 2016, 2017, 2018],\n",
    "'판매량':[103, 70, 130, 160],\n",
    "'매출':[500000, 300000, 400000, 550000],\n",
    "'순이익':[370000, 190000, 300000, 480000]\n",
    "}\n",
    "sales_data2 = {\n",
    "'연도':[2019, 2020],\n",
    "'판매량':[190, 230],\n",
    "'매출':[700000, 680000],\n",
    "'순이익':[ 600000, 590000]\n",
    "}\n",
    "sales_df = pd.DataFrame(sales_data1)\n",
    "sales_df2 = pd.DataFrame(sales_data2)\n",
    "# append\n",
    "sales_df.append(sales_df2, ignore_index=True)\n",
    "# concat\n",
    "pd.concat([sales_df, sales_df2], ignore_index=True)"
   ]
  },
  {
   "cell_type": "code",
   "execution_count": 55,
   "id": "4afba1e8",
   "metadata": {},
   "outputs": [
    {
     "data": {
      "text/html": [
       "<div>\n",
       "<style scoped>\n",
       "    .dataframe tbody tr th:only-of-type {\n",
       "        vertical-align: middle;\n",
       "    }\n",
       "\n",
       "    .dataframe tbody tr th {\n",
       "        vertical-align: top;\n",
       "    }\n",
       "\n",
       "    .dataframe thead th {\n",
       "        text-align: right;\n",
       "    }\n",
       "</style>\n",
       "<table border=\"1\" class=\"dataframe\">\n",
       "  <thead>\n",
       "    <tr style=\"text-align: right;\">\n",
       "      <th></th>\n",
       "      <th>연도</th>\n",
       "      <th>판매량</th>\n",
       "      <th>매출</th>\n",
       "      <th>순이익</th>\n",
       "      <th>이자</th>\n",
       "      <th>관리비</th>\n",
       "      <th>세금</th>\n",
       "    </tr>\n",
       "  </thead>\n",
       "  <tbody>\n",
       "    <tr>\n",
       "      <th>0</th>\n",
       "      <td>2015</td>\n",
       "      <td>103</td>\n",
       "      <td>500000</td>\n",
       "      <td>370000</td>\n",
       "      <td>1520</td>\n",
       "      <td>650</td>\n",
       "      <td>12000</td>\n",
       "    </tr>\n",
       "    <tr>\n",
       "      <th>1</th>\n",
       "      <td>2016</td>\n",
       "      <td>70</td>\n",
       "      <td>300000</td>\n",
       "      <td>190000</td>\n",
       "      <td>1120</td>\n",
       "      <td>400</td>\n",
       "      <td>8900</td>\n",
       "    </tr>\n",
       "    <tr>\n",
       "      <th>2</th>\n",
       "      <td>2017</td>\n",
       "      <td>130</td>\n",
       "      <td>400000</td>\n",
       "      <td>300000</td>\n",
       "      <td>1360</td>\n",
       "      <td>750</td>\n",
       "      <td>10900</td>\n",
       "    </tr>\n",
       "    <tr>\n",
       "      <th>3</th>\n",
       "      <td>2018</td>\n",
       "      <td>160</td>\n",
       "      <td>550000</td>\n",
       "      <td>480000</td>\n",
       "      <td>1680</td>\n",
       "      <td>800</td>\n",
       "      <td>12800</td>\n",
       "    </tr>\n",
       "  </tbody>\n",
       "</table>\n",
       "</div>"
      ],
      "text/plain": [
       "     연도  판매량      매출     순이익    이자  관리비     세금\n",
       "0  2015  103  500000  370000  1520  650  12000\n",
       "1  2016   70  300000  190000  1120  400   8900\n",
       "2  2017  130  400000  300000  1360  750  10900\n",
       "3  2018  160  550000  480000  1680  800  12800"
      ]
     },
     "execution_count": 55,
     "metadata": {},
     "output_type": "execute_result"
    }
   ],
   "source": [
    "cost_data = {\n",
    "'연도':[2015, 2016, 2017, 2018],\n",
    "'이자':[1520, 1120, 1360, 1680],\n",
    "'관리비':[650, 400, 750, 800],\n",
    "'세금':[12000, 8900, 10900, 12800] }\n",
    "cost_data = pd.DataFrame(cost_data)\n",
    "# merge\n",
    "pd.merge(sales_df, cost_data, on='연도', how='left')"
   ]
  },
  {
   "cell_type": "code",
   "execution_count": 56,
   "id": "273f9a19",
   "metadata": {},
   "outputs": [
    {
     "data": {
      "text/html": [
       "<div>\n",
       "<style scoped>\n",
       "    .dataframe tbody tr th:only-of-type {\n",
       "        vertical-align: middle;\n",
       "    }\n",
       "\n",
       "    .dataframe tbody tr th {\n",
       "        vertical-align: top;\n",
       "    }\n",
       "\n",
       "    .dataframe thead tr th {\n",
       "        text-align: left;\n",
       "    }\n",
       "</style>\n",
       "<table border=\"1\" class=\"dataframe\">\n",
       "  <thead>\n",
       "    <tr>\n",
       "      <th></th>\n",
       "      <th></th>\n",
       "      <th colspan=\"2\" halign=\"left\">가가</th>\n",
       "      <th colspan=\"2\" halign=\"left\">나나</th>\n",
       "    </tr>\n",
       "    <tr>\n",
       "      <th></th>\n",
       "      <th></th>\n",
       "      <th>가</th>\n",
       "      <th>나</th>\n",
       "      <th>가</th>\n",
       "      <th>나</th>\n",
       "    </tr>\n",
       "  </thead>\n",
       "  <tbody>\n",
       "    <tr>\n",
       "      <th rowspan=\"2\" valign=\"top\">A</th>\n",
       "      <th>a</th>\n",
       "      <td>8</td>\n",
       "      <td>42</td>\n",
       "      <td>50</td>\n",
       "      <td>88</td>\n",
       "    </tr>\n",
       "    <tr>\n",
       "      <th>b</th>\n",
       "      <td>19</td>\n",
       "      <td>77</td>\n",
       "      <td>73</td>\n",
       "      <td>59</td>\n",
       "    </tr>\n",
       "    <tr>\n",
       "      <th rowspan=\"2\" valign=\"top\">B</th>\n",
       "      <th>a</th>\n",
       "      <td>45</td>\n",
       "      <td>19</td>\n",
       "      <td>94</td>\n",
       "      <td>16</td>\n",
       "    </tr>\n",
       "    <tr>\n",
       "      <th>b</th>\n",
       "      <td>12</td>\n",
       "      <td>41</td>\n",
       "      <td>21</td>\n",
       "      <td>28</td>\n",
       "    </tr>\n",
       "  </tbody>\n",
       "</table>\n",
       "</div>"
      ],
      "text/plain": [
       "     가가      나나    \n",
       "      가   나   가   나\n",
       "A a   8  42  50  88\n",
       "  b  19  77  73  59\n",
       "B a  45  19  94  16\n",
       "  b  12  41  21  28"
      ]
     },
     "execution_count": 56,
     "metadata": {},
     "output_type": "execute_result"
    }
   ],
   "source": [
    "df = pd.DataFrame(np.random.randint(1, 100, size=(4, 4)), index=[['A','A','B','B'],['a','b','a','b']],\n",
    "columns=[['가가','가가','나나','나나'],['가','나','가','나']])\n",
    "df"
   ]
  },
  {
   "cell_type": "code",
   "execution_count": 57,
   "id": "7228692d",
   "metadata": {},
   "outputs": [
    {
     "data": {
      "text/html": [
       "<div>\n",
       "<style scoped>\n",
       "    .dataframe tbody tr th:only-of-type {\n",
       "        vertical-align: middle;\n",
       "    }\n",
       "\n",
       "    .dataframe tbody tr th {\n",
       "        vertical-align: top;\n",
       "    }\n",
       "\n",
       "    .dataframe thead th {\n",
       "        text-align: right;\n",
       "    }\n",
       "</style>\n",
       "<table border=\"1\" class=\"dataframe\">\n",
       "  <thead>\n",
       "    <tr style=\"text-align: right;\">\n",
       "      <th></th>\n",
       "      <th></th>\n",
       "      <th>가</th>\n",
       "      <th>나</th>\n",
       "    </tr>\n",
       "  </thead>\n",
       "  <tbody>\n",
       "    <tr>\n",
       "      <th rowspan=\"2\" valign=\"top\">A</th>\n",
       "      <th>a</th>\n",
       "      <td>8</td>\n",
       "      <td>42</td>\n",
       "    </tr>\n",
       "    <tr>\n",
       "      <th>b</th>\n",
       "      <td>19</td>\n",
       "      <td>77</td>\n",
       "    </tr>\n",
       "    <tr>\n",
       "      <th rowspan=\"2\" valign=\"top\">B</th>\n",
       "      <th>a</th>\n",
       "      <td>45</td>\n",
       "      <td>19</td>\n",
       "    </tr>\n",
       "    <tr>\n",
       "      <th>b</th>\n",
       "      <td>12</td>\n",
       "      <td>41</td>\n",
       "    </tr>\n",
       "  </tbody>\n",
       "</table>\n",
       "</div>"
      ],
      "text/plain": [
       "      가   나\n",
       "A a   8  42\n",
       "  b  19  77\n",
       "B a  45  19\n",
       "  b  12  41"
      ]
     },
     "execution_count": 57,
     "metadata": {},
     "output_type": "execute_result"
    }
   ],
   "source": [
    "df['가가']"
   ]
  },
  {
   "cell_type": "code",
   "execution_count": 58,
   "id": "31005c78",
   "metadata": {},
   "outputs": [
    {
     "data": {
      "text/html": [
       "<div>\n",
       "<style scoped>\n",
       "    .dataframe tbody tr th:only-of-type {\n",
       "        vertical-align: middle;\n",
       "    }\n",
       "\n",
       "    .dataframe tbody tr th {\n",
       "        vertical-align: top;\n",
       "    }\n",
       "\n",
       "    .dataframe thead tr th {\n",
       "        text-align: left;\n",
       "    }\n",
       "</style>\n",
       "<table border=\"1\" class=\"dataframe\">\n",
       "  <thead>\n",
       "    <tr>\n",
       "      <th></th>\n",
       "      <th colspan=\"2\" halign=\"left\">가가</th>\n",
       "      <th colspan=\"2\" halign=\"left\">나나</th>\n",
       "    </tr>\n",
       "    <tr>\n",
       "      <th></th>\n",
       "      <th>가</th>\n",
       "      <th>나</th>\n",
       "      <th>가</th>\n",
       "      <th>나</th>\n",
       "    </tr>\n",
       "  </thead>\n",
       "  <tbody>\n",
       "    <tr>\n",
       "      <th>a</th>\n",
       "      <td>8</td>\n",
       "      <td>42</td>\n",
       "      <td>50</td>\n",
       "      <td>88</td>\n",
       "    </tr>\n",
       "    <tr>\n",
       "      <th>b</th>\n",
       "      <td>19</td>\n",
       "      <td>77</td>\n",
       "      <td>73</td>\n",
       "      <td>59</td>\n",
       "    </tr>\n",
       "  </tbody>\n",
       "</table>\n",
       "</div>"
      ],
      "text/plain": [
       "   가가      나나    \n",
       "    가   나   가   나\n",
       "a   8  42  50  88\n",
       "b  19  77  73  59"
      ]
     },
     "execution_count": 58,
     "metadata": {},
     "output_type": "execute_result"
    }
   ],
   "source": [
    "df.loc['A']"
   ]
  },
  {
   "cell_type": "code",
   "execution_count": 59,
   "id": "12150e6d",
   "metadata": {},
   "outputs": [],
   "source": [
    "df = pd.DataFrame(np.random.randint(1, 100, size=(8, 2)),\n",
    "index=[['A창고','A창고','A창고','A창고','B창고','B창고','B창고','B창고'],\n",
    "['사과','배','바나나','사과','사과','배','바나나','배']],\n",
    "columns=['판매','재고'])\n",
    "df.index.names = ['창고명','상품명']"
   ]
  },
  {
   "cell_type": "code",
   "execution_count": 60,
   "id": "c957b13e",
   "metadata": {},
   "outputs": [
    {
     "data": {
      "text/html": [
       "<div>\n",
       "<style scoped>\n",
       "    .dataframe tbody tr th:only-of-type {\n",
       "        vertical-align: middle;\n",
       "    }\n",
       "\n",
       "    .dataframe tbody tr th {\n",
       "        vertical-align: top;\n",
       "    }\n",
       "\n",
       "    .dataframe thead th {\n",
       "        text-align: right;\n",
       "    }\n",
       "</style>\n",
       "<table border=\"1\" class=\"dataframe\">\n",
       "  <thead>\n",
       "    <tr style=\"text-align: right;\">\n",
       "      <th></th>\n",
       "      <th>판매</th>\n",
       "      <th>재고</th>\n",
       "    </tr>\n",
       "    <tr>\n",
       "      <th>창고명</th>\n",
       "      <th></th>\n",
       "      <th></th>\n",
       "    </tr>\n",
       "  </thead>\n",
       "  <tbody>\n",
       "    <tr>\n",
       "      <th>A창고</th>\n",
       "      <td>159</td>\n",
       "      <td>129</td>\n",
       "    </tr>\n",
       "    <tr>\n",
       "      <th>B창고</th>\n",
       "      <td>232</td>\n",
       "      <td>150</td>\n",
       "    </tr>\n",
       "  </tbody>\n",
       "</table>\n",
       "</div>"
      ],
      "text/plain": [
       "      판매   재고\n",
       "창고명          \n",
       "A창고  159  129\n",
       "B창고  232  150"
      ]
     },
     "execution_count": 60,
     "metadata": {},
     "output_type": "execute_result"
    }
   ],
   "source": [
    "df.groupby('창고명').sum()"
   ]
  },
  {
   "cell_type": "code",
   "execution_count": 61,
   "id": "1ec60997",
   "metadata": {},
   "outputs": [
    {
     "data": {
      "text/html": [
       "<div>\n",
       "<style scoped>\n",
       "    .dataframe tbody tr th:only-of-type {\n",
       "        vertical-align: middle;\n",
       "    }\n",
       "\n",
       "    .dataframe tbody tr th {\n",
       "        vertical-align: top;\n",
       "    }\n",
       "\n",
       "    .dataframe thead th {\n",
       "        text-align: right;\n",
       "    }\n",
       "</style>\n",
       "<table border=\"1\" class=\"dataframe\">\n",
       "  <thead>\n",
       "    <tr style=\"text-align: right;\">\n",
       "      <th></th>\n",
       "      <th>판매</th>\n",
       "      <th>재고</th>\n",
       "    </tr>\n",
       "    <tr>\n",
       "      <th>상품명</th>\n",
       "      <th></th>\n",
       "      <th></th>\n",
       "    </tr>\n",
       "  </thead>\n",
       "  <tbody>\n",
       "    <tr>\n",
       "      <th>바나나</th>\n",
       "      <td>74</td>\n",
       "      <td>82</td>\n",
       "    </tr>\n",
       "    <tr>\n",
       "      <th>배</th>\n",
       "      <td>181</td>\n",
       "      <td>145</td>\n",
       "    </tr>\n",
       "    <tr>\n",
       "      <th>사과</th>\n",
       "      <td>136</td>\n",
       "      <td>52</td>\n",
       "    </tr>\n",
       "  </tbody>\n",
       "</table>\n",
       "</div>"
      ],
      "text/plain": [
       "      판매   재고\n",
       "상품명          \n",
       "바나나   74   82\n",
       "배    181  145\n",
       "사과   136   52"
      ]
     },
     "execution_count": 61,
     "metadata": {},
     "output_type": "execute_result"
    }
   ],
   "source": [
    "df.groupby('상품명').sum()"
   ]
  },
  {
   "cell_type": "code",
   "execution_count": 62,
   "id": "d6579fa8",
   "metadata": {},
   "outputs": [
    {
     "data": {
      "text/html": [
       "<div>\n",
       "<style scoped>\n",
       "    .dataframe tbody tr th:only-of-type {\n",
       "        vertical-align: middle;\n",
       "    }\n",
       "\n",
       "    .dataframe tbody tr th {\n",
       "        vertical-align: top;\n",
       "    }\n",
       "\n",
       "    .dataframe thead th {\n",
       "        text-align: right;\n",
       "    }\n",
       "</style>\n",
       "<table border=\"1\" class=\"dataframe\">\n",
       "  <thead>\n",
       "    <tr style=\"text-align: right;\">\n",
       "      <th></th>\n",
       "      <th></th>\n",
       "      <th>판매</th>\n",
       "      <th>재고</th>\n",
       "    </tr>\n",
       "    <tr>\n",
       "      <th>창고명</th>\n",
       "      <th>상품명</th>\n",
       "      <th></th>\n",
       "      <th></th>\n",
       "    </tr>\n",
       "  </thead>\n",
       "  <tbody>\n",
       "    <tr>\n",
       "      <th rowspan=\"3\" valign=\"top\">A창고</th>\n",
       "      <th>바나나</th>\n",
       "      <td>23</td>\n",
       "      <td>70</td>\n",
       "    </tr>\n",
       "    <tr>\n",
       "      <th>배</th>\n",
       "      <td>45</td>\n",
       "      <td>10</td>\n",
       "    </tr>\n",
       "    <tr>\n",
       "      <th>사과</th>\n",
       "      <td>91</td>\n",
       "      <td>49</td>\n",
       "    </tr>\n",
       "    <tr>\n",
       "      <th rowspan=\"3\" valign=\"top\">B창고</th>\n",
       "      <th>바나나</th>\n",
       "      <td>51</td>\n",
       "      <td>12</td>\n",
       "    </tr>\n",
       "    <tr>\n",
       "      <th>배</th>\n",
       "      <td>136</td>\n",
       "      <td>135</td>\n",
       "    </tr>\n",
       "    <tr>\n",
       "      <th>사과</th>\n",
       "      <td>45</td>\n",
       "      <td>3</td>\n",
       "    </tr>\n",
       "  </tbody>\n",
       "</table>\n",
       "</div>"
      ],
      "text/plain": [
       "          판매   재고\n",
       "창고명 상품명          \n",
       "A창고 바나나   23   70\n",
       "    배     45   10\n",
       "    사과    91   49\n",
       "B창고 바나나   51   12\n",
       "    배    136  135\n",
       "    사과    45    3"
      ]
     },
     "execution_count": 62,
     "metadata": {},
     "output_type": "execute_result"
    }
   ],
   "source": [
    "df.groupby(['창고명','상품명']).sum()"
   ]
  },
  {
   "cell_type": "code",
   "execution_count": 63,
   "id": "2e1643c7",
   "metadata": {},
   "outputs": [],
   "source": [
    "df = pd.DataFrame(np.random.randint(1, 100, size=(8, 2)),\n",
    "index=[['A창고','A창고','A창고','A창고','B창고','B창고','B창고','B창고'],\n",
    "['사과','배','바나나','사과','사과','배','바나나','배']],\n",
    "columns=['판매','재고'])"
   ]
  },
  {
   "cell_type": "code",
   "execution_count": 64,
   "id": "97316182",
   "metadata": {},
   "outputs": [
    {
     "data": {
      "text/html": [
       "<div>\n",
       "<style scoped>\n",
       "    .dataframe tbody tr th:only-of-type {\n",
       "        vertical-align: middle;\n",
       "    }\n",
       "\n",
       "    .dataframe tbody tr th {\n",
       "        vertical-align: top;\n",
       "    }\n",
       "\n",
       "    .dataframe thead th {\n",
       "        text-align: right;\n",
       "    }\n",
       "</style>\n",
       "<table border=\"1\" class=\"dataframe\">\n",
       "  <thead>\n",
       "    <tr style=\"text-align: right;\">\n",
       "      <th></th>\n",
       "      <th></th>\n",
       "      <th>판매</th>\n",
       "      <th>재고</th>\n",
       "    </tr>\n",
       "  </thead>\n",
       "  <tbody>\n",
       "    <tr>\n",
       "      <th rowspan=\"3\" valign=\"top\">B창고</th>\n",
       "      <th>사과</th>\n",
       "      <td>41</td>\n",
       "      <td>12</td>\n",
       "    </tr>\n",
       "    <tr>\n",
       "      <th>배</th>\n",
       "      <td>41</td>\n",
       "      <td>25</td>\n",
       "    </tr>\n",
       "    <tr>\n",
       "      <th>바나나</th>\n",
       "      <td>63</td>\n",
       "      <td>7</td>\n",
       "    </tr>\n",
       "    <tr>\n",
       "      <th rowspan=\"3\" valign=\"top\">A창고</th>\n",
       "      <th>사과</th>\n",
       "      <td>75</td>\n",
       "      <td>69</td>\n",
       "    </tr>\n",
       "    <tr>\n",
       "      <th>바나나</th>\n",
       "      <td>77</td>\n",
       "      <td>30</td>\n",
       "    </tr>\n",
       "    <tr>\n",
       "      <th>사과</th>\n",
       "      <td>91</td>\n",
       "      <td>65</td>\n",
       "    </tr>\n",
       "    <tr>\n",
       "      <th>B창고</th>\n",
       "      <th>배</th>\n",
       "      <td>92</td>\n",
       "      <td>61</td>\n",
       "    </tr>\n",
       "    <tr>\n",
       "      <th>A창고</th>\n",
       "      <th>배</th>\n",
       "      <td>95</td>\n",
       "      <td>10</td>\n",
       "    </tr>\n",
       "  </tbody>\n",
       "</table>\n",
       "</div>"
      ],
      "text/plain": [
       "         판매  재고\n",
       "B창고 사과   41  12\n",
       "    배    41  25\n",
       "    바나나  63   7\n",
       "A창고 사과   75  69\n",
       "    바나나  77  30\n",
       "    사과   91  65\n",
       "B창고 배    92  61\n",
       "A창고 배    95  10"
      ]
     },
     "execution_count": 64,
     "metadata": {},
     "output_type": "execute_result"
    }
   ],
   "source": [
    "df.sort_values(by=\"판매\", ascending=True)"
   ]
  },
  {
   "cell_type": "code",
   "execution_count": 65,
   "id": "e9db3cfd",
   "metadata": {},
   "outputs": [
    {
     "data": {
      "text/html": [
       "<div>\n",
       "<style scoped>\n",
       "    .dataframe tbody tr th:only-of-type {\n",
       "        vertical-align: middle;\n",
       "    }\n",
       "\n",
       "    .dataframe tbody tr th {\n",
       "        vertical-align: top;\n",
       "    }\n",
       "\n",
       "    .dataframe thead th {\n",
       "        text-align: right;\n",
       "    }\n",
       "</style>\n",
       "<table border=\"1\" class=\"dataframe\">\n",
       "  <thead>\n",
       "    <tr style=\"text-align: right;\">\n",
       "      <th></th>\n",
       "      <th></th>\n",
       "      <th>판매</th>\n",
       "      <th>재고</th>\n",
       "    </tr>\n",
       "  </thead>\n",
       "  <tbody>\n",
       "    <tr>\n",
       "      <th rowspan=\"3\" valign=\"top\">B창고</th>\n",
       "      <th>배</th>\n",
       "      <td>41</td>\n",
       "      <td>25</td>\n",
       "    </tr>\n",
       "    <tr>\n",
       "      <th>사과</th>\n",
       "      <td>41</td>\n",
       "      <td>12</td>\n",
       "    </tr>\n",
       "    <tr>\n",
       "      <th>바나나</th>\n",
       "      <td>63</td>\n",
       "      <td>7</td>\n",
       "    </tr>\n",
       "    <tr>\n",
       "      <th rowspan=\"3\" valign=\"top\">A창고</th>\n",
       "      <th>사과</th>\n",
       "      <td>75</td>\n",
       "      <td>69</td>\n",
       "    </tr>\n",
       "    <tr>\n",
       "      <th>바나나</th>\n",
       "      <td>77</td>\n",
       "      <td>30</td>\n",
       "    </tr>\n",
       "    <tr>\n",
       "      <th>사과</th>\n",
       "      <td>91</td>\n",
       "      <td>65</td>\n",
       "    </tr>\n",
       "    <tr>\n",
       "      <th>B창고</th>\n",
       "      <th>배</th>\n",
       "      <td>92</td>\n",
       "      <td>61</td>\n",
       "    </tr>\n",
       "    <tr>\n",
       "      <th>A창고</th>\n",
       "      <th>배</th>\n",
       "      <td>95</td>\n",
       "      <td>10</td>\n",
       "    </tr>\n",
       "  </tbody>\n",
       "</table>\n",
       "</div>"
      ],
      "text/plain": [
       "         판매  재고\n",
       "B창고 배    41  25\n",
       "    사과   41  12\n",
       "    바나나  63   7\n",
       "A창고 사과   75  69\n",
       "    바나나  77  30\n",
       "    사과   91  65\n",
       "B창고 배    92  61\n",
       "A창고 배    95  10"
      ]
     },
     "execution_count": 65,
     "metadata": {},
     "output_type": "execute_result"
    }
   ],
   "source": [
    "df.sort_values(by=[\"판매\", \"재고\"],\n",
    "ascending=[True, False])"
   ]
  },
  {
   "cell_type": "markdown",
   "id": "26db74ad",
   "metadata": {},
   "source": [
    "## 실습 02"
   ]
  },
  {
   "cell_type": "code",
   "execution_count": 66,
   "id": "0475c2ff",
   "metadata": {},
   "outputs": [
    {
     "data": {
      "text/html": [
       "<div>\n",
       "<style scoped>\n",
       "    .dataframe tbody tr th:only-of-type {\n",
       "        vertical-align: middle;\n",
       "    }\n",
       "\n",
       "    .dataframe tbody tr th {\n",
       "        vertical-align: top;\n",
       "    }\n",
       "\n",
       "    .dataframe thead th {\n",
       "        text-align: right;\n",
       "    }\n",
       "</style>\n",
       "<table border=\"1\" class=\"dataframe\">\n",
       "  <thead>\n",
       "    <tr style=\"text-align: right;\">\n",
       "      <th></th>\n",
       "      <th></th>\n",
       "      <th>국어</th>\n",
       "      <th>영어</th>\n",
       "      <th>과학</th>\n",
       "    </tr>\n",
       "  </thead>\n",
       "  <tbody>\n",
       "    <tr>\n",
       "      <th rowspan=\"5\" valign=\"top\">1학년</th>\n",
       "      <th>1반</th>\n",
       "      <td>95</td>\n",
       "      <td>98</td>\n",
       "      <td>61</td>\n",
       "    </tr>\n",
       "    <tr>\n",
       "      <th>2반</th>\n",
       "      <td>23</td>\n",
       "      <td>77</td>\n",
       "      <td>35</td>\n",
       "    </tr>\n",
       "    <tr>\n",
       "      <th>3반</th>\n",
       "      <td>37</td>\n",
       "      <td>32</td>\n",
       "      <td>36</td>\n",
       "    </tr>\n",
       "    <tr>\n",
       "      <th>4반</th>\n",
       "      <td>92</td>\n",
       "      <td>86</td>\n",
       "      <td>15</td>\n",
       "    </tr>\n",
       "    <tr>\n",
       "      <th>5반</th>\n",
       "      <td>67</td>\n",
       "      <td>22</td>\n",
       "      <td>70</td>\n",
       "    </tr>\n",
       "    <tr>\n",
       "      <th rowspan=\"5\" valign=\"top\">2학년</th>\n",
       "      <th>1반</th>\n",
       "      <td>66</td>\n",
       "      <td>91</td>\n",
       "      <td>23</td>\n",
       "    </tr>\n",
       "    <tr>\n",
       "      <th>2반</th>\n",
       "      <td>7</td>\n",
       "      <td>55</td>\n",
       "      <td>67</td>\n",
       "    </tr>\n",
       "    <tr>\n",
       "      <th>3반</th>\n",
       "      <td>35</td>\n",
       "      <td>6</td>\n",
       "      <td>77</td>\n",
       "    </tr>\n",
       "    <tr>\n",
       "      <th>4반</th>\n",
       "      <td>76</td>\n",
       "      <td>64</td>\n",
       "      <td>15</td>\n",
       "    </tr>\n",
       "    <tr>\n",
       "      <th>5반</th>\n",
       "      <td>79</td>\n",
       "      <td>38</td>\n",
       "      <td>28</td>\n",
       "    </tr>\n",
       "    <tr>\n",
       "      <th rowspan=\"5\" valign=\"top\">3학년</th>\n",
       "      <th>1반</th>\n",
       "      <td>45</td>\n",
       "      <td>89</td>\n",
       "      <td>78</td>\n",
       "    </tr>\n",
       "    <tr>\n",
       "      <th>2반</th>\n",
       "      <td>99</td>\n",
       "      <td>9</td>\n",
       "      <td>17</td>\n",
       "    </tr>\n",
       "    <tr>\n",
       "      <th>3반</th>\n",
       "      <td>17</td>\n",
       "      <td>80</td>\n",
       "      <td>67</td>\n",
       "    </tr>\n",
       "    <tr>\n",
       "      <th>4반</th>\n",
       "      <td>32</td>\n",
       "      <td>72</td>\n",
       "      <td>95</td>\n",
       "    </tr>\n",
       "    <tr>\n",
       "      <th>5반</th>\n",
       "      <td>68</td>\n",
       "      <td>12</td>\n",
       "      <td>76</td>\n",
       "    </tr>\n",
       "  </tbody>\n",
       "</table>\n",
       "</div>"
      ],
      "text/plain": [
       "        국어  영어  과학\n",
       "1학년 1반  95  98  61\n",
       "    2반  23  77  35\n",
       "    3반  37  32  36\n",
       "    4반  92  86  15\n",
       "    5반  67  22  70\n",
       "2학년 1반  66  91  23\n",
       "    2반   7  55  67\n",
       "    3반  35   6  77\n",
       "    4반  76  64  15\n",
       "    5반  79  38  28\n",
       "3학년 1반  45  89  78\n",
       "    2반  99   9  17\n",
       "    3반  17  80  67\n",
       "    4반  32  72  95\n",
       "    5반  68  12  76"
      ]
     },
     "execution_count": 66,
     "metadata": {},
     "output_type": "execute_result"
    }
   ],
   "source": [
    "# 데이터 프레임 만들기\n",
    "df = pd.DataFrame(np.random.randint(1, 100, size=(15, 3)),\n",
    "index=[['1학년', '1학년', '1학년', '1학년', '1학년', '2학년', '2학년', '2학년', '2학년', '2학년', '3학년', '3학년', '3학년', '3학년', '3학년'],\n",
    "['1반', '2반', '3반', '4반', '5반', '1반', '2반', '3반', '4반', '5반', '1반', '2반', '3반', '4반', '5반']],\n",
    "columns=['국어','영어', '과학'])\n",
    "df"
   ]
  },
  {
   "cell_type": "code",
   "execution_count": 67,
   "id": "2061d649",
   "metadata": {},
   "outputs": [
    {
     "data": {
      "text/html": [
       "<div>\n",
       "<style scoped>\n",
       "    .dataframe tbody tr th:only-of-type {\n",
       "        vertical-align: middle;\n",
       "    }\n",
       "\n",
       "    .dataframe tbody tr th {\n",
       "        vertical-align: top;\n",
       "    }\n",
       "\n",
       "    .dataframe thead th {\n",
       "        text-align: right;\n",
       "    }\n",
       "</style>\n",
       "<table border=\"1\" class=\"dataframe\">\n",
       "  <thead>\n",
       "    <tr style=\"text-align: right;\">\n",
       "      <th></th>\n",
       "      <th></th>\n",
       "      <th>국어</th>\n",
       "      <th>영어</th>\n",
       "      <th>과학</th>\n",
       "      <th>총점</th>\n",
       "      <th>평균</th>\n",
       "    </tr>\n",
       "  </thead>\n",
       "  <tbody>\n",
       "    <tr>\n",
       "      <th rowspan=\"5\" valign=\"top\">1학년</th>\n",
       "      <th>1반</th>\n",
       "      <td>95</td>\n",
       "      <td>98</td>\n",
       "      <td>61</td>\n",
       "      <td>254</td>\n",
       "      <td>84.666667</td>\n",
       "    </tr>\n",
       "    <tr>\n",
       "      <th>2반</th>\n",
       "      <td>23</td>\n",
       "      <td>77</td>\n",
       "      <td>35</td>\n",
       "      <td>135</td>\n",
       "      <td>45.000000</td>\n",
       "    </tr>\n",
       "    <tr>\n",
       "      <th>3반</th>\n",
       "      <td>37</td>\n",
       "      <td>32</td>\n",
       "      <td>36</td>\n",
       "      <td>105</td>\n",
       "      <td>35.000000</td>\n",
       "    </tr>\n",
       "    <tr>\n",
       "      <th>4반</th>\n",
       "      <td>92</td>\n",
       "      <td>86</td>\n",
       "      <td>15</td>\n",
       "      <td>193</td>\n",
       "      <td>64.333333</td>\n",
       "    </tr>\n",
       "    <tr>\n",
       "      <th>5반</th>\n",
       "      <td>67</td>\n",
       "      <td>22</td>\n",
       "      <td>70</td>\n",
       "      <td>159</td>\n",
       "      <td>53.000000</td>\n",
       "    </tr>\n",
       "    <tr>\n",
       "      <th rowspan=\"5\" valign=\"top\">2학년</th>\n",
       "      <th>1반</th>\n",
       "      <td>66</td>\n",
       "      <td>91</td>\n",
       "      <td>23</td>\n",
       "      <td>180</td>\n",
       "      <td>60.000000</td>\n",
       "    </tr>\n",
       "    <tr>\n",
       "      <th>2반</th>\n",
       "      <td>7</td>\n",
       "      <td>55</td>\n",
       "      <td>67</td>\n",
       "      <td>129</td>\n",
       "      <td>43.000000</td>\n",
       "    </tr>\n",
       "    <tr>\n",
       "      <th>3반</th>\n",
       "      <td>35</td>\n",
       "      <td>6</td>\n",
       "      <td>77</td>\n",
       "      <td>118</td>\n",
       "      <td>39.333333</td>\n",
       "    </tr>\n",
       "    <tr>\n",
       "      <th>4반</th>\n",
       "      <td>76</td>\n",
       "      <td>64</td>\n",
       "      <td>15</td>\n",
       "      <td>155</td>\n",
       "      <td>51.666667</td>\n",
       "    </tr>\n",
       "    <tr>\n",
       "      <th>5반</th>\n",
       "      <td>79</td>\n",
       "      <td>38</td>\n",
       "      <td>28</td>\n",
       "      <td>145</td>\n",
       "      <td>48.333333</td>\n",
       "    </tr>\n",
       "    <tr>\n",
       "      <th rowspan=\"5\" valign=\"top\">3학년</th>\n",
       "      <th>1반</th>\n",
       "      <td>45</td>\n",
       "      <td>89</td>\n",
       "      <td>78</td>\n",
       "      <td>212</td>\n",
       "      <td>70.666667</td>\n",
       "    </tr>\n",
       "    <tr>\n",
       "      <th>2반</th>\n",
       "      <td>99</td>\n",
       "      <td>9</td>\n",
       "      <td>17</td>\n",
       "      <td>125</td>\n",
       "      <td>41.666667</td>\n",
       "    </tr>\n",
       "    <tr>\n",
       "      <th>3반</th>\n",
       "      <td>17</td>\n",
       "      <td>80</td>\n",
       "      <td>67</td>\n",
       "      <td>164</td>\n",
       "      <td>54.666667</td>\n",
       "    </tr>\n",
       "    <tr>\n",
       "      <th>4반</th>\n",
       "      <td>32</td>\n",
       "      <td>72</td>\n",
       "      <td>95</td>\n",
       "      <td>199</td>\n",
       "      <td>66.333333</td>\n",
       "    </tr>\n",
       "    <tr>\n",
       "      <th>5반</th>\n",
       "      <td>68</td>\n",
       "      <td>12</td>\n",
       "      <td>76</td>\n",
       "      <td>156</td>\n",
       "      <td>52.000000</td>\n",
       "    </tr>\n",
       "  </tbody>\n",
       "</table>\n",
       "</div>"
      ],
      "text/plain": [
       "        국어  영어  과학   총점         평균\n",
       "1학년 1반  95  98  61  254  84.666667\n",
       "    2반  23  77  35  135  45.000000\n",
       "    3반  37  32  36  105  35.000000\n",
       "    4반  92  86  15  193  64.333333\n",
       "    5반  67  22  70  159  53.000000\n",
       "2학년 1반  66  91  23  180  60.000000\n",
       "    2반   7  55  67  129  43.000000\n",
       "    3반  35   6  77  118  39.333333\n",
       "    4반  76  64  15  155  51.666667\n",
       "    5반  79  38  28  145  48.333333\n",
       "3학년 1반  45  89  78  212  70.666667\n",
       "    2반  99   9  17  125  41.666667\n",
       "    3반  17  80  67  164  54.666667\n",
       "    4반  32  72  95  199  66.333333\n",
       "    5반  68  12  76  156  52.000000"
      ]
     },
     "execution_count": 67,
     "metadata": {},
     "output_type": "execute_result"
    }
   ],
   "source": [
    "# 반별 합계와 평균 추가\n",
    "df['총점'] = df['국어'] + df['영어'] + df['과학']\n",
    "df['평균'] = df['총점'] / 3\n",
    "df"
   ]
  },
  {
   "cell_type": "code",
   "execution_count": 68,
   "id": "da46f90b",
   "metadata": {},
   "outputs": [
    {
     "data": {
      "text/html": [
       "<div>\n",
       "<style scoped>\n",
       "    .dataframe tbody tr th:only-of-type {\n",
       "        vertical-align: middle;\n",
       "    }\n",
       "\n",
       "    .dataframe tbody tr th {\n",
       "        vertical-align: top;\n",
       "    }\n",
       "\n",
       "    .dataframe thead th {\n",
       "        text-align: right;\n",
       "    }\n",
       "</style>\n",
       "<table border=\"1\" class=\"dataframe\">\n",
       "  <thead>\n",
       "    <tr style=\"text-align: right;\">\n",
       "      <th></th>\n",
       "      <th>국어</th>\n",
       "      <th>영어</th>\n",
       "      <th>과학</th>\n",
       "      <th>총점</th>\n",
       "      <th>평균</th>\n",
       "    </tr>\n",
       "    <tr>\n",
       "      <th>학년</th>\n",
       "      <th></th>\n",
       "      <th></th>\n",
       "      <th></th>\n",
       "      <th></th>\n",
       "      <th></th>\n",
       "    </tr>\n",
       "  </thead>\n",
       "  <tbody>\n",
       "    <tr>\n",
       "      <th>1학년</th>\n",
       "      <td>314</td>\n",
       "      <td>315</td>\n",
       "      <td>217</td>\n",
       "      <td>846</td>\n",
       "      <td>282.000000</td>\n",
       "    </tr>\n",
       "    <tr>\n",
       "      <th>2학년</th>\n",
       "      <td>263</td>\n",
       "      <td>254</td>\n",
       "      <td>210</td>\n",
       "      <td>727</td>\n",
       "      <td>242.333333</td>\n",
       "    </tr>\n",
       "    <tr>\n",
       "      <th>3학년</th>\n",
       "      <td>261</td>\n",
       "      <td>262</td>\n",
       "      <td>333</td>\n",
       "      <td>856</td>\n",
       "      <td>285.333333</td>\n",
       "    </tr>\n",
       "  </tbody>\n",
       "</table>\n",
       "</div>"
      ],
      "text/plain": [
       "      국어   영어   과학   총점          평균\n",
       "학년                                 \n",
       "1학년  314  315  217  846  282.000000\n",
       "2학년  263  254  210  727  242.333333\n",
       "3학년  261  262  333  856  285.333333"
      ]
     },
     "execution_count": 68,
     "metadata": {},
     "output_type": "execute_result"
    }
   ],
   "source": [
    "# 인덱스명 추가하고, 학년별 합계 구하기\n",
    "df.index.names = ['학년', '반']\n",
    "df.groupby('학년').sum()"
   ]
  },
  {
   "cell_type": "markdown",
   "id": "7a16dfb2",
   "metadata": {},
   "source": [
    "## 실습 03"
   ]
  },
  {
   "cell_type": "code",
   "execution_count": 69,
   "id": "9956a7a8",
   "metadata": {},
   "outputs": [
    {
     "data": {
      "text/html": [
       "<div>\n",
       "<style scoped>\n",
       "    .dataframe tbody tr th:only-of-type {\n",
       "        vertical-align: middle;\n",
       "    }\n",
       "\n",
       "    .dataframe tbody tr th {\n",
       "        vertical-align: top;\n",
       "    }\n",
       "\n",
       "    .dataframe thead th {\n",
       "        text-align: right;\n",
       "    }\n",
       "</style>\n",
       "<table border=\"1\" class=\"dataframe\">\n",
       "  <thead>\n",
       "    <tr style=\"text-align: right;\">\n",
       "      <th></th>\n",
       "      <th>PassengerId</th>\n",
       "      <th>Survived</th>\n",
       "      <th>Pclass</th>\n",
       "      <th>Name</th>\n",
       "      <th>Sex</th>\n",
       "      <th>Age</th>\n",
       "      <th>SibSp</th>\n",
       "      <th>Parch</th>\n",
       "      <th>Ticket</th>\n",
       "      <th>Fare</th>\n",
       "      <th>Cabin</th>\n",
       "      <th>Embarked</th>\n",
       "    </tr>\n",
       "  </thead>\n",
       "  <tbody>\n",
       "    <tr>\n",
       "      <th>0</th>\n",
       "      <td>1</td>\n",
       "      <td>0</td>\n",
       "      <td>3</td>\n",
       "      <td>Braund, Mr. Owen Harris</td>\n",
       "      <td>male</td>\n",
       "      <td>22.0</td>\n",
       "      <td>1</td>\n",
       "      <td>0</td>\n",
       "      <td>A/5 21171</td>\n",
       "      <td>7.2500</td>\n",
       "      <td>NaN</td>\n",
       "      <td>S</td>\n",
       "    </tr>\n",
       "    <tr>\n",
       "      <th>1</th>\n",
       "      <td>2</td>\n",
       "      <td>1</td>\n",
       "      <td>1</td>\n",
       "      <td>Cumings, Mrs. John Bradley (Florence Briggs Th...</td>\n",
       "      <td>female</td>\n",
       "      <td>38.0</td>\n",
       "      <td>1</td>\n",
       "      <td>0</td>\n",
       "      <td>PC 17599</td>\n",
       "      <td>71.2833</td>\n",
       "      <td>C85</td>\n",
       "      <td>C</td>\n",
       "    </tr>\n",
       "    <tr>\n",
       "      <th>2</th>\n",
       "      <td>3</td>\n",
       "      <td>1</td>\n",
       "      <td>3</td>\n",
       "      <td>Heikkinen, Miss. Laina</td>\n",
       "      <td>female</td>\n",
       "      <td>26.0</td>\n",
       "      <td>0</td>\n",
       "      <td>0</td>\n",
       "      <td>STON/O2. 3101282</td>\n",
       "      <td>7.9250</td>\n",
       "      <td>NaN</td>\n",
       "      <td>S</td>\n",
       "    </tr>\n",
       "    <tr>\n",
       "      <th>3</th>\n",
       "      <td>4</td>\n",
       "      <td>1</td>\n",
       "      <td>1</td>\n",
       "      <td>Futrelle, Mrs. Jacques Heath (Lily May Peel)</td>\n",
       "      <td>female</td>\n",
       "      <td>35.0</td>\n",
       "      <td>1</td>\n",
       "      <td>0</td>\n",
       "      <td>113803</td>\n",
       "      <td>53.1000</td>\n",
       "      <td>C123</td>\n",
       "      <td>S</td>\n",
       "    </tr>\n",
       "    <tr>\n",
       "      <th>4</th>\n",
       "      <td>5</td>\n",
       "      <td>0</td>\n",
       "      <td>3</td>\n",
       "      <td>Allen, Mr. William Henry</td>\n",
       "      <td>male</td>\n",
       "      <td>35.0</td>\n",
       "      <td>0</td>\n",
       "      <td>0</td>\n",
       "      <td>373450</td>\n",
       "      <td>8.0500</td>\n",
       "      <td>NaN</td>\n",
       "      <td>S</td>\n",
       "    </tr>\n",
       "    <tr>\n",
       "      <th>...</th>\n",
       "      <td>...</td>\n",
       "      <td>...</td>\n",
       "      <td>...</td>\n",
       "      <td>...</td>\n",
       "      <td>...</td>\n",
       "      <td>...</td>\n",
       "      <td>...</td>\n",
       "      <td>...</td>\n",
       "      <td>...</td>\n",
       "      <td>...</td>\n",
       "      <td>...</td>\n",
       "      <td>...</td>\n",
       "    </tr>\n",
       "    <tr>\n",
       "      <th>886</th>\n",
       "      <td>887</td>\n",
       "      <td>0</td>\n",
       "      <td>2</td>\n",
       "      <td>Montvila, Rev. Juozas</td>\n",
       "      <td>male</td>\n",
       "      <td>27.0</td>\n",
       "      <td>0</td>\n",
       "      <td>0</td>\n",
       "      <td>211536</td>\n",
       "      <td>13.0000</td>\n",
       "      <td>NaN</td>\n",
       "      <td>S</td>\n",
       "    </tr>\n",
       "    <tr>\n",
       "      <th>887</th>\n",
       "      <td>888</td>\n",
       "      <td>1</td>\n",
       "      <td>1</td>\n",
       "      <td>Graham, Miss. Margaret Edith</td>\n",
       "      <td>female</td>\n",
       "      <td>19.0</td>\n",
       "      <td>0</td>\n",
       "      <td>0</td>\n",
       "      <td>112053</td>\n",
       "      <td>30.0000</td>\n",
       "      <td>B42</td>\n",
       "      <td>S</td>\n",
       "    </tr>\n",
       "    <tr>\n",
       "      <th>888</th>\n",
       "      <td>889</td>\n",
       "      <td>0</td>\n",
       "      <td>3</td>\n",
       "      <td>Johnston, Miss. Catherine Helen \"Carrie\"</td>\n",
       "      <td>female</td>\n",
       "      <td>NaN</td>\n",
       "      <td>1</td>\n",
       "      <td>2</td>\n",
       "      <td>W./C. 6607</td>\n",
       "      <td>23.4500</td>\n",
       "      <td>NaN</td>\n",
       "      <td>S</td>\n",
       "    </tr>\n",
       "    <tr>\n",
       "      <th>889</th>\n",
       "      <td>890</td>\n",
       "      <td>1</td>\n",
       "      <td>1</td>\n",
       "      <td>Behr, Mr. Karl Howell</td>\n",
       "      <td>male</td>\n",
       "      <td>26.0</td>\n",
       "      <td>0</td>\n",
       "      <td>0</td>\n",
       "      <td>111369</td>\n",
       "      <td>30.0000</td>\n",
       "      <td>C148</td>\n",
       "      <td>C</td>\n",
       "    </tr>\n",
       "    <tr>\n",
       "      <th>890</th>\n",
       "      <td>891</td>\n",
       "      <td>0</td>\n",
       "      <td>3</td>\n",
       "      <td>Dooley, Mr. Patrick</td>\n",
       "      <td>male</td>\n",
       "      <td>32.0</td>\n",
       "      <td>0</td>\n",
       "      <td>0</td>\n",
       "      <td>370376</td>\n",
       "      <td>7.7500</td>\n",
       "      <td>NaN</td>\n",
       "      <td>Q</td>\n",
       "    </tr>\n",
       "  </tbody>\n",
       "</table>\n",
       "<p>891 rows × 12 columns</p>\n",
       "</div>"
      ],
      "text/plain": [
       "     PassengerId  Survived  Pclass  \\\n",
       "0              1         0       3   \n",
       "1              2         1       1   \n",
       "2              3         1       3   \n",
       "3              4         1       1   \n",
       "4              5         0       3   \n",
       "..           ...       ...     ...   \n",
       "886          887         0       2   \n",
       "887          888         1       1   \n",
       "888          889         0       3   \n",
       "889          890         1       1   \n",
       "890          891         0       3   \n",
       "\n",
       "                                                  Name     Sex   Age  SibSp  \\\n",
       "0                              Braund, Mr. Owen Harris    male  22.0      1   \n",
       "1    Cumings, Mrs. John Bradley (Florence Briggs Th...  female  38.0      1   \n",
       "2                               Heikkinen, Miss. Laina  female  26.0      0   \n",
       "3         Futrelle, Mrs. Jacques Heath (Lily May Peel)  female  35.0      1   \n",
       "4                             Allen, Mr. William Henry    male  35.0      0   \n",
       "..                                                 ...     ...   ...    ...   \n",
       "886                              Montvila, Rev. Juozas    male  27.0      0   \n",
       "887                       Graham, Miss. Margaret Edith  female  19.0      0   \n",
       "888           Johnston, Miss. Catherine Helen \"Carrie\"  female   NaN      1   \n",
       "889                              Behr, Mr. Karl Howell    male  26.0      0   \n",
       "890                                Dooley, Mr. Patrick    male  32.0      0   \n",
       "\n",
       "     Parch            Ticket     Fare Cabin Embarked  \n",
       "0        0         A/5 21171   7.2500   NaN        S  \n",
       "1        0          PC 17599  71.2833   C85        C  \n",
       "2        0  STON/O2. 3101282   7.9250   NaN        S  \n",
       "3        0            113803  53.1000  C123        S  \n",
       "4        0            373450   8.0500   NaN        S  \n",
       "..     ...               ...      ...   ...      ...  \n",
       "886      0            211536  13.0000   NaN        S  \n",
       "887      0            112053  30.0000   B42        S  \n",
       "888      2        W./C. 6607  23.4500   NaN        S  \n",
       "889      0            111369  30.0000  C148        C  \n",
       "890      0            370376   7.7500   NaN        Q  \n",
       "\n",
       "[891 rows x 12 columns]"
      ]
     },
     "execution_count": 69,
     "metadata": {},
     "output_type": "execute_result"
    }
   ],
   "source": [
    "df = pd.read_csv(\"titanic_train.csv\")\n",
    "df"
   ]
  },
  {
   "cell_type": "code",
   "execution_count": 70,
   "id": "eb4131d7",
   "metadata": {},
   "outputs": [],
   "source": [
    "# 1. 결측치 처리\n",
    "df[\"Age\"].fillna(df[\"Age\"].mean(), inplace=True)\n",
    "df[\"Cabin\"].fillna(\"N\", inplace=True)\n",
    "df[\"Embarked\"].fillna(\"N\", inplace=True)"
   ]
  },
  {
   "cell_type": "code",
   "execution_count": 71,
   "id": "d7ddaede",
   "metadata": {},
   "outputs": [
    {
     "data": {
      "text/plain": [
       "PassengerId    0\n",
       "Survived       0\n",
       "Pclass         0\n",
       "Name           0\n",
       "Sex            0\n",
       "Age            0\n",
       "SibSp          0\n",
       "Parch          0\n",
       "Ticket         0\n",
       "Fare           0\n",
       "Cabin          0\n",
       "Embarked       0\n",
       "dtype: int64"
      ]
     },
     "execution_count": 71,
     "metadata": {},
     "output_type": "execute_result"
    }
   ],
   "source": [
    "df.isnull().sum()"
   ]
  },
  {
   "cell_type": "code",
   "execution_count": 72,
   "id": "7431383c",
   "metadata": {},
   "outputs": [
    {
     "data": {
      "text/plain": [
       "Sex\n",
       "female    233\n",
       "male      109\n",
       "Name: Survived, dtype: int64"
      ]
     },
     "execution_count": 72,
     "metadata": {},
     "output_type": "execute_result"
    }
   ],
   "source": [
    "# 2. 성별 생존자 합\n",
    "df.groupby(\"Sex\")[\"Survived\"].sum()"
   ]
  },
  {
   "cell_type": "code",
   "execution_count": 73,
   "id": "2b19f688",
   "metadata": {},
   "outputs": [
    {
     "data": {
      "text/plain": [
       "Pclass\n",
       "1    136\n",
       "2     87\n",
       "3    119\n",
       "Name: Survived, dtype: int64"
      ]
     },
     "execution_count": 73,
     "metadata": {},
     "output_type": "execute_result"
    }
   ],
   "source": [
    "# 3. 클래스별 생존자 합\n",
    "df.groupby(\"Pclass\")[\"Survived\"].sum()"
   ]
  },
  {
   "cell_type": "code",
   "execution_count": 74,
   "id": "ce922ed4",
   "metadata": {},
   "outputs": [
    {
     "data": {
      "text/html": [
       "<div>\n",
       "<style scoped>\n",
       "    .dataframe tbody tr th:only-of-type {\n",
       "        vertical-align: middle;\n",
       "    }\n",
       "\n",
       "    .dataframe tbody tr th {\n",
       "        vertical-align: top;\n",
       "    }\n",
       "\n",
       "    .dataframe thead th {\n",
       "        text-align: right;\n",
       "    }\n",
       "</style>\n",
       "<table border=\"1\" class=\"dataframe\">\n",
       "  <thead>\n",
       "    <tr style=\"text-align: right;\">\n",
       "      <th></th>\n",
       "      <th>PassengerId</th>\n",
       "      <th>Survived</th>\n",
       "      <th>Pclass</th>\n",
       "      <th>Name</th>\n",
       "      <th>Sex</th>\n",
       "      <th>Age</th>\n",
       "      <th>SibSp</th>\n",
       "      <th>Parch</th>\n",
       "      <th>Ticket</th>\n",
       "      <th>Fare</th>\n",
       "      <th>Cabin</th>\n",
       "      <th>Embarked</th>\n",
       "      <th>Age_Range</th>\n",
       "    </tr>\n",
       "  </thead>\n",
       "  <tbody>\n",
       "    <tr>\n",
       "      <th>0</th>\n",
       "      <td>1</td>\n",
       "      <td>0</td>\n",
       "      <td>3</td>\n",
       "      <td>Braund, Mr. Owen Harris</td>\n",
       "      <td>male</td>\n",
       "      <td>22.0</td>\n",
       "      <td>1</td>\n",
       "      <td>0</td>\n",
       "      <td>A/5 21171</td>\n",
       "      <td>7.2500</td>\n",
       "      <td>N</td>\n",
       "      <td>S</td>\n",
       "      <td>20대</td>\n",
       "    </tr>\n",
       "    <tr>\n",
       "      <th>1</th>\n",
       "      <td>2</td>\n",
       "      <td>1</td>\n",
       "      <td>1</td>\n",
       "      <td>Cumings, Mrs. John Bradley (Florence Briggs Th...</td>\n",
       "      <td>female</td>\n",
       "      <td>38.0</td>\n",
       "      <td>1</td>\n",
       "      <td>0</td>\n",
       "      <td>PC 17599</td>\n",
       "      <td>71.2833</td>\n",
       "      <td>C85</td>\n",
       "      <td>C</td>\n",
       "      <td>30대</td>\n",
       "    </tr>\n",
       "    <tr>\n",
       "      <th>2</th>\n",
       "      <td>3</td>\n",
       "      <td>1</td>\n",
       "      <td>3</td>\n",
       "      <td>Heikkinen, Miss. Laina</td>\n",
       "      <td>female</td>\n",
       "      <td>26.0</td>\n",
       "      <td>0</td>\n",
       "      <td>0</td>\n",
       "      <td>STON/O2. 3101282</td>\n",
       "      <td>7.9250</td>\n",
       "      <td>N</td>\n",
       "      <td>S</td>\n",
       "      <td>20대</td>\n",
       "    </tr>\n",
       "    <tr>\n",
       "      <th>3</th>\n",
       "      <td>4</td>\n",
       "      <td>1</td>\n",
       "      <td>1</td>\n",
       "      <td>Futrelle, Mrs. Jacques Heath (Lily May Peel)</td>\n",
       "      <td>female</td>\n",
       "      <td>35.0</td>\n",
       "      <td>1</td>\n",
       "      <td>0</td>\n",
       "      <td>113803</td>\n",
       "      <td>53.1000</td>\n",
       "      <td>C123</td>\n",
       "      <td>S</td>\n",
       "      <td>30대</td>\n",
       "    </tr>\n",
       "    <tr>\n",
       "      <th>4</th>\n",
       "      <td>5</td>\n",
       "      <td>0</td>\n",
       "      <td>3</td>\n",
       "      <td>Allen, Mr. William Henry</td>\n",
       "      <td>male</td>\n",
       "      <td>35.0</td>\n",
       "      <td>0</td>\n",
       "      <td>0</td>\n",
       "      <td>373450</td>\n",
       "      <td>8.0500</td>\n",
       "      <td>N</td>\n",
       "      <td>S</td>\n",
       "      <td>30대</td>\n",
       "    </tr>\n",
       "  </tbody>\n",
       "</table>\n",
       "</div>"
      ],
      "text/plain": [
       "   PassengerId  Survived  Pclass  \\\n",
       "0            1         0       3   \n",
       "1            2         1       1   \n",
       "2            3         1       3   \n",
       "3            4         1       1   \n",
       "4            5         0       3   \n",
       "\n",
       "                                                Name     Sex   Age  SibSp  \\\n",
       "0                            Braund, Mr. Owen Harris    male  22.0      1   \n",
       "1  Cumings, Mrs. John Bradley (Florence Briggs Th...  female  38.0      1   \n",
       "2                             Heikkinen, Miss. Laina  female  26.0      0   \n",
       "3       Futrelle, Mrs. Jacques Heath (Lily May Peel)  female  35.0      1   \n",
       "4                           Allen, Mr. William Henry    male  35.0      0   \n",
       "\n",
       "   Parch            Ticket     Fare Cabin Embarked Age_Range  \n",
       "0      0         A/5 21171   7.2500     N        S       20대  \n",
       "1      0          PC 17599  71.2833   C85        C       30대  \n",
       "2      0  STON/O2. 3101282   7.9250     N        S       20대  \n",
       "3      0            113803  53.1000  C123        S       30대  \n",
       "4      0            373450   8.0500     N        S       30대  "
      ]
     },
     "execution_count": 74,
     "metadata": {},
     "output_type": "execute_result"
    }
   ],
   "source": [
    "# 4. 각 세대별 생존자 합\n",
    "def gen(age):\n",
    "    if age // 10 == 0:\n",
    "        return \"유아\"\n",
    "    elif age // 10 == 1:\n",
    "        return \"10대\"\n",
    "    elif age // 10 == 2:\n",
    "        return \"20대\"\n",
    "    elif age // 10 == 3:\n",
    "        return \"30대\"\n",
    "    elif age // 10 == 4:\n",
    "        return \"40대\"\n",
    "    elif age // 10 == 5:\n",
    "        return \"50대\"\n",
    "    elif age // 10 == 6:\n",
    "        return \"60대\"\n",
    "    else:\n",
    "        return \"노인\"\n",
    "df[\"Age_Range\"] = df[\"Age\"].apply(gen)\n",
    "df.head()"
   ]
  },
  {
   "cell_type": "code",
   "execution_count": 75,
   "id": "ca3368ae",
   "metadata": {},
   "outputs": [
    {
     "data": {
      "text/plain": [
       "Age_Range\n",
       "10대     41\n",
       "20대    129\n",
       "30대     73\n",
       "40대     34\n",
       "50대     20\n",
       "60대      6\n",
       "노인       1\n",
       "유아      38\n",
       "Name: Survived, dtype: int64"
      ]
     },
     "execution_count": 75,
     "metadata": {},
     "output_type": "execute_result"
    }
   ],
   "source": [
    "df.groupby(\"Age_Range\")[\"Survived\"].sum()"
   ]
  },
  {
   "cell_type": "markdown",
   "id": "fa9bd3a6",
   "metadata": {},
   "source": [
    "## 실습 04"
   ]
  },
  {
   "cell_type": "code",
   "execution_count": 76,
   "id": "94cb7371",
   "metadata": {},
   "outputs": [
    {
     "name": "stderr",
     "output_type": "stream",
     "text": [
      "C:\\Users\\user\\AppData\\Local\\Temp\\ipykernel_8956\\1689767103.py:2: UserWarning: Boolean Series key will be reindexed to match DataFrame index.\n",
      "  len(df[df[\"Age_Range\"] == \"30대\"][df[\"Pclass\"] == 1])\n"
     ]
    },
    {
     "data": {
      "text/plain": [
       "50"
      ]
     },
     "execution_count": 76,
     "metadata": {},
     "output_type": "execute_result"
    }
   ],
   "source": [
    "# 1. 30대이면서 1등석에 탄사람의 수\n",
    "len(df[df[\"Age_Range\"] == \"30대\"][df[\"Pclass\"] == 1])"
   ]
  },
  {
   "cell_type": "code",
   "execution_count": 77,
   "id": "a5302285",
   "metadata": {},
   "outputs": [
    {
     "data": {
      "text/plain": [
       "Pclass\n",
       "1    37.048118\n",
       "2    29.866958\n",
       "3    26.403259\n",
       "Name: Age, dtype: float64"
      ]
     },
     "execution_count": 77,
     "metadata": {},
     "output_type": "execute_result"
    }
   ],
   "source": [
    "# 2. 클래스별 나이 평균\n",
    "df.groupby(\"Pclass\")[\"Age\"].mean()"
   ]
  },
  {
   "cell_type": "code",
   "execution_count": 78,
   "id": "e5102e52",
   "metadata": {},
   "outputs": [
    {
     "data": {
      "text/plain": [
       "Pclass  Sex   \n",
       "1       female    0.968085\n",
       "        male      0.368852\n",
       "2       female    0.921053\n",
       "        male      0.157407\n",
       "3       female    0.500000\n",
       "        male      0.135447\n",
       "Name: Survived, dtype: float64"
      ]
     },
     "execution_count": 78,
     "metadata": {},
     "output_type": "execute_result"
    }
   ],
   "source": [
    "# 3. 클래스와 성별에 따른 생존율\n",
    "df.groupby([\"Pclass\", \"Sex\"])[\"Survived\"].mean()"
   ]
  },
  {
   "cell_type": "code",
   "execution_count": 79,
   "id": "9f89b812",
   "metadata": {},
   "outputs": [
    {
     "data": {
      "text/plain": [
       "Age_Range\n",
       "10대    0.401961\n",
       "20대    0.324937\n",
       "30대    0.437126\n",
       "40대    0.382022\n",
       "50대    0.416667\n",
       "60대    0.315789\n",
       "노인     0.142857\n",
       "유아     0.612903\n",
       "Name: Survived, dtype: float64"
      ]
     },
     "execution_count": 79,
     "metadata": {},
     "output_type": "execute_result"
    }
   ],
   "source": [
    "# 4. 나이대별로 생존율 구하기\n",
    "df.groupby(\"Age_Range\")[\"Survived\"].mean()"
   ]
  },
  {
   "cell_type": "code",
   "execution_count": null,
   "id": "03fe4748",
   "metadata": {},
   "outputs": [],
   "source": []
  }
 ],
 "metadata": {
  "kernelspec": {
   "display_name": "Python 3 (ipykernel)",
   "language": "python",
   "name": "python3"
  },
  "language_info": {
   "codemirror_mode": {
    "name": "ipython",
    "version": 3
   },
   "file_extension": ".py",
   "mimetype": "text/x-python",
   "name": "python",
   "nbconvert_exporter": "python",
   "pygments_lexer": "ipython3",
   "version": "3.11.4"
  }
 },
 "nbformat": 4,
 "nbformat_minor": 5
}
